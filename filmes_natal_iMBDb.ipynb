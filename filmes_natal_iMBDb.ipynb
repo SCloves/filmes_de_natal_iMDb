{
 "cells": [
  {
   "cell_type": "markdown",
   "metadata": {},
   "source": [
    "<img src='filmes_natal.jpg'>"
   ]
  },
  {
   "cell_type": "markdown",
   "metadata": {},
   "source": [
    "# Problema\n",
    "\n",
    "\n",
    "Obter uma lista de filmes sobre o tema Natal no site iMDb e, para cada filme, as seguintes informações:\n",
    "\n",
    "* Título\n",
    "* link iMDb com mais informações sobre o filme\n",
    "* Sinopse\n",
    "* Diretor\n",
    "* Gênero\n",
    "* País\n",
    "* Idioma\n",
    "* Tempo de duração em minutos\n",
    "* Atores principais\n",
    "* Score\n",
    "* Ano\n",
    "* Quantidade de reviews de usuários iMDb\n",
    "\n",
    "Antes de atacarmos esse problema, precisamos entender algumas coisas básicas."
   ]
  },
  {
   "cell_type": "markdown",
   "metadata": {},
   "source": [
    "# Componentes de uma página web"
   ]
  },
  {
   "cell_type": "markdown",
   "metadata": {},
   "source": [
    "Quando visitamos uma página, nosso navegador faz uma solicitação à um servidor de Internet. Essa solicitação é chamada de solicitação GET, pois estamos recebendo arquivos do servidor. O servidor então envia arquivos que dizem ao navegador como renderizar a página para nós. Os arquivos se enquadram em alguns tipos principais:\n",
    "\n",
    "* HTML: Contém o conteúdo principal da página;\n",
    "* CSS: Adiciona estilos para que a página fique mais bonita;\n",
    "* JS: Arquivos JavaScript adicionam interatividade à página;\n",
    "* Imagens: formatos de imagem, tais como JPG e PNG permitem que páginas web exibam imagens.\n",
    "\n",
    "Após nosso navegador receber todos os arquivos, ele renderiza a página e a exibe para nós. Existem muitas coisas que acontecem no background para renderizar bem uma página, mas não precisamos nos preocupar com a maioria delas quando estamos realizando o web scraping. Quando realizamos o web scraping, estamos interessados no conteúdo principal da página, então olharemos para o HTML."
   ]
  },
  {
   "cell_type": "markdown",
   "metadata": {},
   "source": [
    "# Entendendo HTML"
   ]
  },
  {
   "cell_type": "markdown",
   "metadata": {},
   "source": [
    "HyperText Markup Language (HTML) é uma linguagem com que as páginas web são criadas. O HTML não é uma linguagem de programação, como o Python – em vez disso, é uma linguagem de marcação que diz ao navegador como exibir o conteúdo. O HTML permite que você faça coisas similares ao Microsoft Word – criar parágrafos, deixar textos em negrito etc. Por não ser uma linguagem de programação, o HTML nem se aproxima da complexidade do Python."
   ]
  },
  {
   "cell_type": "markdown",
   "metadata": {},
   "source": [
    "O HTML é formado por elementos chamados tags. Veja uma exemplo de código em HTML:\n",
    "\n",
    "```HTML\n",
    "<html>\n",
    "    <head>\n",
    "    </head>\n",
    "    <body>\n",
    "        <p>\n",
    "            Aqui um exemplo de parágrafo com texto.\n",
    "            <a href=\"https://www.dataquest.io\">Learn Data Science Online</a>\n",
    "        </p>\n",
    "        <p>\n",
    "            Aqui um segundo exemplo de parágrafo com texto.\n",
    "            <a href=\"https://www.python.org\">Python</a>\n",
    "        </p>\n",
    "    </body>\n",
    "</html>\n",
    "```"
   ]
  },
  {
   "cell_type": "markdown",
   "metadata": {},
   "source": [
    "No exemplo acima, temos duas tags a. As tags a são links, e dizem ao navegador para renderizar uma outra página. A propriedade href determina para onde o link vai. As tags a e p são extremamente comuns, a seguir temos outras:\n",
    "\n",
    "* div – indica uma divisão, uma área na página;\n",
    "* b – deixa qualquer texto dentro dela em negrito;\n",
    "* i – deixa em itálico;\n",
    "* table – cria uma tabela;\n",
    "* form – cria um formulário;\n",
    "\n",
    "Para uma lista completa de tags, clique [aqui](https://developer.mozilla.org/pt-BR/docs/Web/HTML/HTML5/HTML5_element_list)."
   ]
  },
  {
   "cell_type": "markdown",
   "metadata": {},
   "source": [
    "# A biblioteca requests\n",
    "\n",
    "A primeira coisa que precisamos fazer para realizar o web scrap é baixar a página. Podemos baixar as páginas utilizando a biblioteca requests do Python. A biblioteca requests fará uma solicitação GET ao servidor, que fará o download dos conteúdos HTML da página solicitada para nós. Existem vários tipos de solicitação diferentes que podemos realizar utilizando a biblioteca requests – GET é apenas um deles."
   ]
  },
  {
   "cell_type": "markdown",
   "metadata": {},
   "source": [
    "# A Biblioteca BeautifulSoup\n",
    "\n",
    "Depois de baixamos um documento HTML da página que desejamos usando o requests. Nós podemos utilizar a biblioteca BeautifulSoup para analisar esse documento e extrair o conteúdo das tags que desejamos."
   ]
  },
  {
   "cell_type": "markdown",
   "metadata": {},
   "source": [
    "# Importando as Bibliotecas"
   ]
  },
  {
   "cell_type": "code",
   "execution_count": 3,
   "metadata": {
    "collapsed": true
   },
   "outputs": [],
   "source": [
    "import requests # para se conectar a página web\n",
    "from bs4 import BeautifulSoup # para extrair informações do html\n",
    "import pandas as pd # para manusear os dados e salvá-los em csv "
   ]
  },
  {
   "cell_type": "markdown",
   "metadata": {},
   "source": [
    "# Obtendo os títulos e links dos Filmes"
   ]
  },
  {
   "cell_type": "code",
   "execution_count": 4,
   "metadata": {
    "collapsed": true
   },
   "outputs": [],
   "source": [
    "# url que lista filmes sobre o tema natal \n",
    "url_fonte = 'http://www.imdb.com/find?q=Christmas&s=tt&ref_=fn_tt'"
   ]
  },
  {
   "cell_type": "code",
   "execution_count": 5,
   "metadata": {
    "collapsed": false
   },
   "outputs": [],
   "source": [
    "# obtendo conteúdo da página\n",
    "con = requests.get(url_fonte)"
   ]
  },
  {
   "cell_type": "code",
   "execution_count": 6,
   "metadata": {
    "collapsed": true
   },
   "outputs": [],
   "source": [
    "# criando objeto BeautifulSoup \n",
    "soup = BeautifulSoup(con.content, \"html.parser\")"
   ]
  },
  {
   "cell_type": "code",
   "execution_count": 7,
   "metadata": {
    "collapsed": true
   },
   "outputs": [],
   "source": [
    "titulos_filmes = [div.find('a').contents[0] for div in soup.findAll('td', attrs={'class':'result_text'})]"
   ]
  },
  {
   "cell_type": "code",
   "execution_count": 8,
   "metadata": {
    "collapsed": false
   },
   "outputs": [],
   "source": [
    "links_filmes = ['http://www.imdb.com' + div.a['href'] for div in soup.findAll('td', attrs={'class':'result_text'})]"
   ]
  },
  {
   "cell_type": "markdown",
   "metadata": {},
   "source": [
    "# Criando as funções para o scraping"
   ]
  },
  {
   "cell_type": "markdown",
   "metadata": {},
   "source": [
    "### Sinopse"
   ]
  },
  {
   "cell_type": "code",
   "execution_count": 16,
   "metadata": {
    "collapsed": true
   },
   "outputs": [],
   "source": [
    "url_filme = 'http://www.imdb.com/title/tt0144827/?ref_=fn_tt_tt_3'"
   ]
  },
  {
   "cell_type": "code",
   "execution_count": 17,
   "metadata": {
    "collapsed": false
   },
   "outputs": [],
   "source": [
    "# obtendo conteúdo da página\n",
    "con = requests.get(url_filme)\n",
    "\n",
    "# criando objeto BeautifulSoup \n",
    "soup = BeautifulSoup(con.content, \"html.parser\")"
   ]
  },
  {
   "cell_type": "code",
   "execution_count": 18,
   "metadata": {
    "collapsed": true
   },
   "outputs": [],
   "source": [
    "# <div class=\"summary_text\" itemprop=\"description\">\n",
    "sinopse =  soup.find('div', attrs={'class':'summary_text'})"
   ]
  },
  {
   "cell_type": "code",
   "execution_count": 19,
   "metadata": {
    "collapsed": false
   },
   "outputs": [
    {
     "name": "stdout",
     "output_type": "stream",
     "text": [
      "\n",
      "                    A present-day adaptation of Charles Dickens' \"A Christmas Carol\".\n",
      "            \n"
     ]
    }
   ],
   "source": [
    "print sinopse.text        "
   ]
  },
  {
   "cell_type": "code",
   "execution_count": 26,
   "metadata": {
    "collapsed": true
   },
   "outputs": [],
   "source": [
    "# Fazendo função que irá capturar essa informação para nós\n",
    "\n",
    "def get_sinopse(soup):\n",
    "    '''\n",
    "    Função rebe um objeto BeautifulSoup\n",
    "    chamado soup com o html da página do filme\n",
    "    desejado e retorna uma string da sinopse do filme.\n",
    "    Caso não haja uma sinopse, retorna None.\n",
    "    '''\n",
    "    sinopse =  soup.find('div', attrs={'class':'summary_text'})\n",
    "    \n",
    "    if sinopse.text:\n",
    "        return sinopse.text\n",
    "    else:\n",
    "        return None"
   ]
  },
  {
   "cell_type": "markdown",
   "metadata": {},
   "source": [
    "### Diretor"
   ]
  },
  {
   "cell_type": "code",
   "execution_count": 88,
   "metadata": {
    "collapsed": true
   },
   "outputs": [],
   "source": [
    "# <span class=\"itemprop\" itemprop=\"name\">Jeremiah S. Chechik</span>\n",
    "diretor =  soup.find('span', attrs={'class':'itemprop'}, itemprop='name')"
   ]
  },
  {
   "cell_type": "code",
   "execution_count": 89,
   "metadata": {
    "collapsed": false
   },
   "outputs": [
    {
     "name": "stdout",
     "output_type": "stream",
     "text": [
      "Abel Ferrara\n"
     ]
    }
   ],
   "source": [
    "print diretor.text"
   ]
  },
  {
   "cell_type": "code",
   "execution_count": 90,
   "metadata": {
    "collapsed": true
   },
   "outputs": [],
   "source": [
    "def get_diretor(soup):\n",
    "    '''\n",
    "    retorna uma lista com \n",
    "    os gêneros do filme\n",
    "    '''\n",
    "    diretor =  soup.find('span', attrs={'class':'itemprop'}, itemprop='name')\n",
    "    if diretor.text:\n",
    "        return diretor.text\n",
    "    else:\n",
    "        return None"
   ]
  },
  {
   "cell_type": "markdown",
   "metadata": {},
   "source": [
    "### Gênero"
   ]
  },
  {
   "cell_type": "code",
   "execution_count": 225,
   "metadata": {
    "collapsed": true
   },
   "outputs": [],
   "source": [
    "# tags com as informações do Gênero dos filmes\n",
    "'''\n",
    "<div class=\"see-more inline canwrap\" itemprop=\"genre\">\n",
    "            <h4 class=\"inline\">Genres:</h4>\n",
    "<a href=\"/genre/Comedy?ref_=tt_stry_gnr\"> Comedy</a>\n",
    "        </div>\n",
    "'''\n",
    "\n",
    "div =  soup.find('div', attrs={'class':'see-more inline canwrap'}, itemprop='genre')"
   ]
  },
  {
   "cell_type": "code",
   "execution_count": 226,
   "metadata": {
    "collapsed": false
   },
   "outputs": [],
   "source": [
    "generos = [a.text for a in div.find_all('a')]"
   ]
  },
  {
   "cell_type": "code",
   "execution_count": 227,
   "metadata": {
    "collapsed": false
   },
   "outputs": [
    {
     "data": {
      "text/plain": [
       "[u' Comedy', u' Crime', u' Family']"
      ]
     },
     "execution_count": 227,
     "metadata": {},
     "output_type": "execute_result"
    }
   ],
   "source": [
    "generos"
   ]
  },
  {
   "cell_type": "code",
   "execution_count": 228,
   "metadata": {
    "collapsed": true
   },
   "outputs": [],
   "source": [
    "def get_generos(soup):\n",
    "    div =  soup.find('div', attrs={'class':'see-more inline canwrap'}, itemprop='genre')\n",
    "    if div != None:\n",
    "        generos = [a.text for a in div.find_all('a')]\n",
    "        return generos\n",
    "    else:\n",
    "        return None"
   ]
  },
  {
   "cell_type": "code",
   "execution_count": 229,
   "metadata": {
    "collapsed": false
   },
   "outputs": [
    {
     "data": {
      "text/plain": [
       "[u' Comedy', u' Crime', u' Family']"
      ]
     },
     "execution_count": 229,
     "metadata": {},
     "output_type": "execute_result"
    }
   ],
   "source": [
    "get_generos(soup)"
   ]
  },
  {
   "cell_type": "markdown",
   "metadata": {},
   "source": [
    "### País"
   ]
  },
  {
   "cell_type": "code",
   "execution_count": 95,
   "metadata": {
    "collapsed": false
   },
   "outputs": [],
   "source": [
    "'''\n",
    "    <div class=\"txt-block\">\n",
    "    <h4 class=\"inline\">Country:</h4>\n",
    "        <a href=\"/search/title?country_of_origin=cl&amp;ref_=tt_dt_dt\" itemprop=\"url\">Chile</a>\n",
    "              <span class=\"ghost\">|</span>\n",
    "        <a href=\"/search/title?country_of_origin=fr&amp;ref_=tt_dt_dt\" itemprop=\"url\">France</a>\n",
    "'''\n",
    "\n",
    "\n",
    "tags_paises = soup.select(\"a[href*=country_of_origin]\")"
   ]
  },
  {
   "cell_type": "code",
   "execution_count": 96,
   "metadata": {
    "collapsed": false
   },
   "outputs": [
    {
     "data": {
      "text/plain": [
       "[<a href=\"/search/title?country_of_origin=us&amp;ref_=tt_dt_dt\" itemprop=\"url\">USA</a>,\n",
       " <a href=\"/search/title?country_of_origin=fr&amp;ref_=tt_dt_dt\" itemprop=\"url\">France</a>]"
      ]
     },
     "execution_count": 96,
     "metadata": {},
     "output_type": "execute_result"
    }
   ],
   "source": [
    "# temos dois países\n",
    "tags_paises"
   ]
  },
  {
   "cell_type": "code",
   "execution_count": 97,
   "metadata": {
    "collapsed": true
   },
   "outputs": [],
   "source": [
    "paises = [a.text for a in tags_paises]"
   ]
  },
  {
   "cell_type": "code",
   "execution_count": 98,
   "metadata": {
    "collapsed": false
   },
   "outputs": [
    {
     "data": {
      "text/plain": [
       "[u'USA', u'France']"
      ]
     },
     "execution_count": 98,
     "metadata": {},
     "output_type": "execute_result"
    }
   ],
   "source": [
    "paises"
   ]
  },
  {
   "cell_type": "code",
   "execution_count": 99,
   "metadata": {
    "collapsed": true
   },
   "outputs": [],
   "source": [
    "def get_paises(soup):\n",
    "    tags_paises = soup.select(\"a[href*=country_of_origin]\")\n",
    "    if len(tags_paises):\n",
    "        paises = [a.text for a in tags_paises]\n",
    "        return paises\n",
    "    else:\n",
    "        return None"
   ]
  },
  {
   "cell_type": "markdown",
   "metadata": {},
   "source": [
    "### Idioma"
   ]
  },
  {
   "cell_type": "code",
   "execution_count": 100,
   "metadata": {
    "collapsed": true
   },
   "outputs": [],
   "source": [
    "'''\n",
    "<a href=\"/search/title?title_type=feature&amp;primary_language=es&amp;sort=moviemeter,\n",
    "asc&amp;ref_=tt_dt_dt\" itemprop=\"url\">Spanish</a>\n",
    "'''\n",
    "\n",
    "tags_idioma = soup.select(\"a[href*=primary_language]\")"
   ]
  },
  {
   "cell_type": "code",
   "execution_count": 101,
   "metadata": {
    "collapsed": false
   },
   "outputs": [
    {
     "data": {
      "text/plain": [
       "[<a href=\"/search/title?title_type=feature&amp;primary_language=en&amp;sort=moviemeter,asc&amp;ref_=tt_dt_dt\" itemprop=\"url\">English</a>,\n",
       " <a href=\"/search/title?title_type=feature&amp;primary_language=es&amp;sort=moviemeter,asc&amp;ref_=tt_dt_dt\" itemprop=\"url\">Spanish</a>]"
      ]
     },
     "execution_count": 101,
     "metadata": {},
     "output_type": "execute_result"
    }
   ],
   "source": [
    "tags_idioma"
   ]
  },
  {
   "cell_type": "code",
   "execution_count": 102,
   "metadata": {
    "collapsed": false
   },
   "outputs": [
    {
     "data": {
      "text/plain": [
       "u'English'"
      ]
     },
     "execution_count": 102,
     "metadata": {},
     "output_type": "execute_result"
    }
   ],
   "source": [
    "tags_idioma[0].text"
   ]
  },
  {
   "cell_type": "code",
   "execution_count": 103,
   "metadata": {
    "collapsed": true
   },
   "outputs": [],
   "source": [
    "def get_idioma(soup):\n",
    "    tags_idioma = soup.select(\"a[href*=primary_language]\")\n",
    "    if len(tags_idioma):\n",
    "        return tags_idioma[0].text\n",
    "    else:\n",
    "        None"
   ]
  },
  {
   "cell_type": "code",
   "execution_count": 104,
   "metadata": {
    "collapsed": false
   },
   "outputs": [
    {
     "data": {
      "text/plain": [
       "u'English'"
      ]
     },
     "execution_count": 104,
     "metadata": {},
     "output_type": "execute_result"
    }
   ],
   "source": [
    "get_idioma(soup)"
   ]
  },
  {
   "cell_type": "markdown",
   "metadata": {},
   "source": [
    "### Tempo de duração em minutos"
   ]
  },
  {
   "cell_type": "code",
   "execution_count": 105,
   "metadata": {
    "collapsed": true
   },
   "outputs": [],
   "source": [
    "'''\n",
    "<time itemprop=\"duration\" datetime=\"PT99M\">99 min</time>\n",
    "'''\n",
    "\n",
    "tempo = soup.findAll('time', itemprop=\"duration\")"
   ]
  },
  {
   "cell_type": "code",
   "execution_count": 106,
   "metadata": {
    "collapsed": false
   },
   "outputs": [
    {
     "data": {
      "text/plain": [
       "[<time datetime=\"PT85M\" itemprop=\"duration\">\\n                        1h 25min\\n                    </time>,\n",
       " <time datetime=\"PT85M\" itemprop=\"duration\">85 min</time>]"
      ]
     },
     "execution_count": 106,
     "metadata": {},
     "output_type": "execute_result"
    }
   ],
   "source": [
    "tempo"
   ]
  },
  {
   "cell_type": "code",
   "execution_count": 107,
   "metadata": {
    "collapsed": false
   },
   "outputs": [],
   "source": [
    "t = tempo[0].text"
   ]
  },
  {
   "cell_type": "code",
   "execution_count": 108,
   "metadata": {
    "collapsed": false
   },
   "outputs": [
    {
     "data": {
      "text/plain": [
       "u'\\n                        1h 25min\\n                    '"
      ]
     },
     "execution_count": 108,
     "metadata": {},
     "output_type": "execute_result"
    }
   ],
   "source": [
    "t"
   ]
  },
  {
   "cell_type": "code",
   "execution_count": 109,
   "metadata": {
    "collapsed": false
   },
   "outputs": [],
   "source": [
    "t = t.replace(' ', '')"
   ]
  },
  {
   "cell_type": "code",
   "execution_count": 110,
   "metadata": {
    "collapsed": false
   },
   "outputs": [
    {
     "data": {
      "text/plain": [
       "u'\\n1h25min\\n'"
      ]
     },
     "execution_count": 110,
     "metadata": {},
     "output_type": "execute_result"
    }
   ],
   "source": [
    "t"
   ]
  },
  {
   "cell_type": "code",
   "execution_count": 111,
   "metadata": {
    "collapsed": false
   },
   "outputs": [
    {
     "data": {
      "text/plain": [
       "u'1h25min'"
      ]
     },
     "execution_count": 111,
     "metadata": {},
     "output_type": "execute_result"
    }
   ],
   "source": [
    "t = t.replace('\\n', '')\n",
    "t"
   ]
  },
  {
   "cell_type": "code",
   "execution_count": 112,
   "metadata": {
    "collapsed": false
   },
   "outputs": [
    {
     "data": {
      "text/plain": [
       "u'1h25'"
      ]
     },
     "execution_count": 112,
     "metadata": {},
     "output_type": "execute_result"
    }
   ],
   "source": [
    "t2 = t[:t.find('min')]\n",
    "t2"
   ]
  },
  {
   "cell_type": "code",
   "execution_count": 113,
   "metadata": {
    "collapsed": true
   },
   "outputs": [],
   "source": [
    "def transformar_horas_em_minutos(text):\n",
    "    if text.find('h') != -1 and text.find('min') != -1:\n",
    "        tempo = text.replace(' ', '')\n",
    "        tempo = tempo.replace('\\n', '')\n",
    "        tempo = tempo.replace('min', '')\n",
    "        h = int(tempo[0])*60\n",
    "        m = int(tempo[2:])\n",
    "        return h + m\n",
    "    elif text.find('h') != -1 and text.find('min') == -1:\n",
    "        tempo = text.replace(' ', '')\n",
    "        tempo = tempo.replace('\\n', '')\n",
    "        return int(tempo[0])*60\n",
    "    else:\n",
    "        tempo = text.replace(' ', '')\n",
    "        tempo = tempo.replace('\\n', '')\n",
    "        tempo = tempo.replace('min', '')\n",
    "        return int(tempo)"
   ]
  },
  {
   "cell_type": "code",
   "execution_count": 114,
   "metadata": {
    "collapsed": false
   },
   "outputs": [
    {
     "data": {
      "text/plain": [
       "90"
      ]
     },
     "execution_count": 114,
     "metadata": {},
     "output_type": "execute_result"
    }
   ],
   "source": [
    "transformar_horas_em_minutos('\\n  1h 30min \\n')"
   ]
  },
  {
   "cell_type": "code",
   "execution_count": 115,
   "metadata": {
    "collapsed": false
   },
   "outputs": [
    {
     "data": {
      "text/plain": [
       "50"
      ]
     },
     "execution_count": 115,
     "metadata": {},
     "output_type": "execute_result"
    }
   ],
   "source": [
    "transformar_horas_em_minutos('\\n  50min  \\n')"
   ]
  },
  {
   "cell_type": "code",
   "execution_count": 116,
   "metadata": {
    "collapsed": false
   },
   "outputs": [
    {
     "data": {
      "text/plain": [
       "120"
      ]
     },
     "execution_count": 116,
     "metadata": {},
     "output_type": "execute_result"
    }
   ],
   "source": [
    "transformar_horas_em_minutos('\\n   2h00  \\n')"
   ]
  },
  {
   "cell_type": "code",
   "execution_count": 117,
   "metadata": {
    "collapsed": true
   },
   "outputs": [],
   "source": [
    "def get_duracao(soup):\n",
    "    tempo = soup.findAll('time', itemprop=\"duration\")\n",
    "    if len(tempo):\n",
    "        return transformar_horas_em_minutos(tempo[0].text)   \n",
    "    else:\n",
    "        return None"
   ]
  },
  {
   "cell_type": "code",
   "execution_count": 118,
   "metadata": {
    "collapsed": false
   },
   "outputs": [
    {
     "data": {
      "text/plain": [
       "85"
      ]
     },
     "execution_count": 118,
     "metadata": {},
     "output_type": "execute_result"
    }
   ],
   "source": [
    "get_duracao(soup)"
   ]
  },
  {
   "cell_type": "markdown",
   "metadata": {},
   "source": [
    "### Atores Principais"
   ]
  },
  {
   "cell_type": "code",
   "execution_count": 119,
   "metadata": {
    "collapsed": true
   },
   "outputs": [],
   "source": [
    "'''\n",
    "<span itemprop=\"actors\" itemscope=\"\" itemtype=\"http://schema.org/Person\">\n",
    "<a href=\"/name/nm1443757?ref_=tt_ov_st_sm\" itemprop=\"url\"><span class=\"itemprop\" itemprop=\"name\">Manuela Martelli</span></a>,             </span>\n",
    "'''\n",
    "atores = soup.findAll('span', itemprop=\"actors\")"
   ]
  },
  {
   "cell_type": "code",
   "execution_count": 120,
   "metadata": {
    "collapsed": false
   },
   "outputs": [
    {
     "data": {
      "text/plain": [
       "[<span itemprop=\"actors\" itemscope=\"\" itemtype=\"http://schema.org/Person\">\\n<a href=\"/name/nm0005576?ref_=tt_ov_st_sm\" itemprop=\"url\"><span class=\"itemprop\" itemprop=\"name\">Drea de Matteo</span></a>,             </span>,\n",
       " <span itemprop=\"actors\" itemscope=\"\" itemtype=\"http://schema.org/Person\">\\n<a href=\"/name/nm0000969?ref_=tt_ov_st_sm\" itemprop=\"url\"><span class=\"itemprop\" itemprop=\"name\">Lillo Brancato</span></a>,             </span>,\n",
       " <span itemprop=\"actors\" itemscope=\"\" itemtype=\"http://schema.org/Person\">\\n<a href=\"/name/nm0972605?ref_=tt_ov_st_sm\" itemprop=\"url\"><span class=\"itemprop\" itemprop=\"name\">Lisa Valens</span></a> </span>]"
      ]
     },
     "execution_count": 120,
     "metadata": {},
     "output_type": "execute_result"
    }
   ],
   "source": [
    "atores"
   ]
  },
  {
   "cell_type": "code",
   "execution_count": 121,
   "metadata": {
    "collapsed": false
   },
   "outputs": [
    {
     "name": "stdout",
     "output_type": "stream",
     "text": [
      "Drea de Matteo\n",
      "Lillo Brancato\n",
      "Lisa Valens\n"
     ]
    }
   ],
   "source": [
    "for div in atores:\n",
    "    print div.a.text"
   ]
  },
  {
   "cell_type": "code",
   "execution_count": 122,
   "metadata": {
    "collapsed": true
   },
   "outputs": [],
   "source": [
    "def gets_atores(soup):\n",
    "    divs_atores = soup.findAll('span', itemprop=\"actors\")\n",
    "    atores = [div.a.text for div in divs_atores]\n",
    "    return atores"
   ]
  },
  {
   "cell_type": "markdown",
   "metadata": {},
   "source": [
    "### Score"
   ]
  },
  {
   "cell_type": "code",
   "execution_count": 123,
   "metadata": {
    "collapsed": true
   },
   "outputs": [],
   "source": [
    "'''\n",
    "<span itemprop=\"ratingValue\">6,2</span>\n",
    "'''\n",
    "\n",
    "score = soup.find('span', itemprop=\"ratingValue\")"
   ]
  },
  {
   "cell_type": "code",
   "execution_count": 124,
   "metadata": {
    "collapsed": false
   },
   "outputs": [
    {
     "data": {
      "text/plain": [
       "5.8"
      ]
     },
     "execution_count": 124,
     "metadata": {},
     "output_type": "execute_result"
    }
   ],
   "source": [
    "float(score.text)"
   ]
  },
  {
   "cell_type": "code",
   "execution_count": 125,
   "metadata": {
    "collapsed": true
   },
   "outputs": [],
   "source": [
    "def get_score(soup):\n",
    "    score = soup.find('span', itemprop=\"ratingValue\")\n",
    "    if score != None:\n",
    "        return float(score.text)\n",
    "    else:\n",
    "        return None"
   ]
  },
  {
   "cell_type": "markdown",
   "metadata": {},
   "source": [
    "### Ano"
   ]
  },
  {
   "cell_type": "code",
   "execution_count": 126,
   "metadata": {
    "collapsed": true
   },
   "outputs": [],
   "source": [
    "# <a href=\"/year/2009/?ref_=tt_ov_inf\">2009</a>\n",
    "\n",
    "ano = soup.select(\"a[href*=/year/]\")"
   ]
  },
  {
   "cell_type": "code",
   "execution_count": 127,
   "metadata": {
    "collapsed": false
   },
   "outputs": [
    {
     "data": {
      "text/plain": [
       "[<a href=\"/year/2001/?ref_=tt_ov_inf\">2001</a>]"
      ]
     },
     "execution_count": 127,
     "metadata": {},
     "output_type": "execute_result"
    }
   ],
   "source": [
    "ano"
   ]
  },
  {
   "cell_type": "code",
   "execution_count": 128,
   "metadata": {
    "collapsed": false
   },
   "outputs": [
    {
     "data": {
      "text/plain": [
       "u'2001'"
      ]
     },
     "execution_count": 128,
     "metadata": {},
     "output_type": "execute_result"
    }
   ],
   "source": [
    "ano[0].text"
   ]
  },
  {
   "cell_type": "code",
   "execution_count": 150,
   "metadata": {
    "collapsed": true
   },
   "outputs": [],
   "source": [
    "def get_ano(soup):\n",
    "    ano = soup.select(\"a[href*=/year/]\")\n",
    "    if len(ano):\n",
    "        return int(ano[0].text)\n",
    "    else:\n",
    "        return None"
   ]
  },
  {
   "cell_type": "markdown",
   "metadata": {},
   "source": [
    "### Quantidade de reviews de usuários iMDb"
   ]
  },
  {
   "cell_type": "code",
   "execution_count": 135,
   "metadata": {
    "collapsed": true
   },
   "outputs": [],
   "source": [
    "'''\n",
    "<a href=\"reviews?ref_=tt_ov_rt\">55 user</a>\n",
    "'''\n",
    "\n",
    "reviews = soup.select(\"a[href*=reviews?ref_=tt_ov_rt]\")"
   ]
  },
  {
   "cell_type": "code",
   "execution_count": 136,
   "metadata": {
    "collapsed": false
   },
   "outputs": [
    {
     "data": {
      "text/plain": [
       "[<a href=\"criticreviews?ref_=tt_ov_rt\"> <div class=\"metacriticScore score_mixed titleReviewBarSubItem\">\\n<span>55</span>\\n</div></a>,\n",
       " <a href=\"criticreviews?ref_=tt_ov_rt\">\\nMetascore\\n</a>,\n",
       " <a href=\"reviews?ref_=tt_ov_rt\">20 user</a>,\n",
       " <a href=\"externalreviews?ref_=tt_ov_rt\">36 critic</a>]"
      ]
     },
     "execution_count": 136,
     "metadata": {},
     "output_type": "execute_result"
    }
   ],
   "source": [
    "reviews"
   ]
  },
  {
   "cell_type": "code",
   "execution_count": 145,
   "metadata": {
    "collapsed": true
   },
   "outputs": [],
   "source": [
    "def get_qtdReviews(soup):\n",
    "    reviews = soup.select(\"a[href*=reviews?ref_=tt_ov_rt]\")\n",
    "    if len(reviews):\n",
    "        for review in reviews:\n",
    "            if review.text.find('user') != -1:\n",
    "                qtd_r = review.text\n",
    "                return int(qtd_r[:qtd_r.find(' user')])\n",
    "        \n",
    "        return None\n",
    "    \n",
    "    else:\n",
    "        return None"
   ]
  },
  {
   "cell_type": "code",
   "execution_count": 146,
   "metadata": {
    "collapsed": false
   },
   "outputs": [
    {
     "data": {
      "text/plain": [
       "20"
      ]
     },
     "execution_count": 146,
     "metadata": {},
     "output_type": "execute_result"
    }
   ],
   "source": [
    "get_qtdReviews(soup)"
   ]
  },
  {
   "cell_type": "markdown",
   "metadata": {},
   "source": [
    "# Extraindo os dados para todos os filmes"
   ]
  },
  {
   "cell_type": "markdown",
   "metadata": {
    "collapsed": true
   },
   "source": [
    "Cada filme será um dicionário do tipo:"
   ]
  },
  {
   "cell_type": "code",
   "execution_count": 147,
   "metadata": {
    "collapsed": false
   },
   "outputs": [],
   "source": [
    "filme = {'titulo': 'string','link': 'string', 'sinopse': 'string', 'diretor': 'string','genero': 'lista de string',\n",
    "         'pais': 'lista de string', 'Idioma': 'lista de string','duracao': 'int', 'atores': 'lista de string',\n",
    "         'score': 'float', 'ano': 'int','popularidade': 'int','qtd_reviews':'int'}"
   ]
  },
  {
   "cell_type": "markdown",
   "metadata": {},
   "source": [
    "Teremos então uma lista de dicionários filmes."
   ]
  },
  {
   "cell_type": "code",
   "execution_count": 148,
   "metadata": {
    "collapsed": false
   },
   "outputs": [
    {
     "data": {
      "text/plain": [
       "200"
      ]
     },
     "execution_count": 148,
     "metadata": {},
     "output_type": "execute_result"
    }
   ],
   "source": [
    "len(titulos_filmes)"
   ]
  },
  {
   "cell_type": "code",
   "execution_count": 230,
   "metadata": {
    "collapsed": false
   },
   "outputs": [],
   "source": [
    "lista_filmes = []\n",
    "for titulo, link in zip(titulos_filmes, links_filmes):\n",
    "    dic = {}\n",
    "    dic['titulo'] = titulo\n",
    "    dic['link'] = link\n",
    "    \n",
    "    con = requests.get(link)\n",
    "    soup = BeautifulSoup(con.content, \"html.parser\")\n",
    "    con.close()\n",
    "    \n",
    "    dic['sinopse'] = get_sinopse(soup)\n",
    "    dic['diretor'] = get_diretor(soup)\n",
    "    dic['genero'] = get_generos(soup)\n",
    "    dic['pais'] = get_paises(soup)\n",
    "    dic['idioma'] = get_idioma(soup)\n",
    "    dic['duracao'] = get_duracao(soup)\n",
    "    dic['atores'] = gets_atores(soup)\n",
    "    dic['score'] = get_score(soup)\n",
    "    dic['ano'] = get_ano(soup)\n",
    "    dic['qtd_reviews'] = get_qtdReviews(soup)\n",
    "    \n",
    "    lista_filmes.append(dic)"
   ]
  },
  {
   "cell_type": "code",
   "execution_count": 231,
   "metadata": {
    "collapsed": true
   },
   "outputs": [],
   "source": [
    "import json\n",
    "\n",
    "#salvando nossos dados\n",
    "with open('dados_filmes_natal', 'w') as fout:\n",
    "    json.dump(lista_filmes, fout)"
   ]
  },
  {
   "cell_type": "markdown",
   "metadata": {},
   "source": [
    "# Análises dos Dados"
   ]
  },
  {
   "cell_type": "code",
   "execution_count": 234,
   "metadata": {
    "collapsed": false
   },
   "outputs": [],
   "source": [
    "import ast\n",
    "\n",
    "#fazendo o load de nossos dados \n",
    "f = open('dados_filmes_natal', 'r')\n",
    "dados = f.readlines()"
   ]
  },
  {
   "cell_type": "code",
   "execution_count": 235,
   "metadata": {
    "collapsed": false
   },
   "outputs": [],
   "source": [
    "# transdormando a representação em string de uma lista\n",
    "# de dicionários em uma lista de dicionário real\n",
    "lista_filmes = ast.literal_eval(dados[0])"
   ]
  },
  {
   "cell_type": "code",
   "execution_count": 236,
   "metadata": {
    "collapsed": false
   },
   "outputs": [
    {
     "data": {
      "text/plain": [
       "{'ano': 2001,\n",
       " 'atores': ['Drea de Matteo', 'Lillo Brancato', 'Lisa Valens'],\n",
       " 'diretor': 'Abel Ferrara',\n",
       " 'duracao': 85,\n",
       " 'genero': [' Crime', ' Drama'],\n",
       " 'idioma': 'English',\n",
       " 'link': 'http://www.imdb.com/title/tt0217978/?ref_=fn_tt_tt_1',\n",
       " 'pais': ['USA', 'France'],\n",
       " 'qtd_reviews': 20,\n",
       " 'score': 5.8,\n",
       " 'sinopse': '\\n                    A New York drug dealer is kidnapped, and his wife must try to come up with the money and drugs to free him from his abductors before Christmas.\\n            ',\n",
       " 'titulo': 'Gangues do Gueto'}"
      ]
     },
     "execution_count": 236,
     "metadata": {},
     "output_type": "execute_result"
    }
   ],
   "source": [
    "lista_filmes[0]"
   ]
  },
  {
   "cell_type": "markdown",
   "metadata": {},
   "source": [
    "### Nuvem de Palavras das sinopses"
   ]
  },
  {
   "cell_type": "code",
   "execution_count": 160,
   "metadata": {
    "collapsed": true
   },
   "outputs": [],
   "source": [
    "# criando uma só string para\n",
    "# todas as sinopses\n",
    "todas_sinopses = ''\n",
    "for dic in lista_filmes:\n",
    "    todas_sinopses += dic['sinopse']"
   ]
  },
  {
   "cell_type": "code",
   "execution_count": 161,
   "metadata": {
    "collapsed": false
   },
   "outputs": [],
   "source": [
    "f = open('sinopses.txt', 'w')\n",
    "f.write(todas_sinopses.encode('utf-8'))\n",
    "f.close()"
   ]
  },
  {
   "cell_type": "markdown",
   "metadata": {},
   "source": [
    "<img src='wordcload_sinopses.png'>"
   ]
  },
  {
   "cell_type": "code",
   "execution_count": 162,
   "metadata": {
    "collapsed": true
   },
   "outputs": [],
   "source": [
    "# Seee full sumary???? http://www.imdb.com/title/tt7647000/"
   ]
  },
  {
   "cell_type": "markdown",
   "metadata": {},
   "source": [
    "### Produção de filmes de natal ao passar dos anos"
   ]
  },
  {
   "cell_type": "code",
   "execution_count": 168,
   "metadata": {
    "collapsed": true
   },
   "outputs": [],
   "source": [
    "#criando uma lista dos anos em que cada filme foi produzido\n",
    "anos  = [dic['ano'] for dic in lista_filmes if dic['ano'] != None]"
   ]
  },
  {
   "cell_type": "code",
   "execution_count": 169,
   "metadata": {
    "collapsed": false
   },
   "outputs": [],
   "source": [
    "# anos agora se torna um conjunto\n",
    "# portando não há anos repetidos\n",
    "anos =set(anos)"
   ]
  },
  {
   "cell_type": "code",
   "execution_count": 170,
   "metadata": {
    "collapsed": false
   },
   "outputs": [
    {
     "data": {
      "text/plain": [
       "{1938,\n",
       " 1945,\n",
       " 1947,\n",
       " 1951,\n",
       " 1954,\n",
       " 1965,\n",
       " 1966,\n",
       " 1974,\n",
       " 1980,\n",
       " 1983,\n",
       " 1984,\n",
       " 1985,\n",
       " 1986,\n",
       " 1988,\n",
       " 1989,\n",
       " 1991,\n",
       " 1992,\n",
       " 1993,\n",
       " 1994,\n",
       " 1995,\n",
       " 1997,\n",
       " 1998,\n",
       " 1999,\n",
       " 2000,\n",
       " 2001,\n",
       " 2002,\n",
       " 2003,\n",
       " 2004,\n",
       " 2006,\n",
       " 2007,\n",
       " 2008,\n",
       " 2009,\n",
       " 2010,\n",
       " 2011,\n",
       " 2012,\n",
       " 2013,\n",
       " 2014,\n",
       " 2015,\n",
       " 2016,\n",
       " 2017,\n",
       " 2018}"
      ]
     },
     "execution_count": 170,
     "metadata": {},
     "output_type": "execute_result"
    }
   ],
   "source": [
    "anos"
   ]
  },
  {
   "cell_type": "code",
   "execution_count": 171,
   "metadata": {
    "collapsed": true
   },
   "outputs": [],
   "source": [
    "dic = {'1938 - 1979': 0, '1980 - 1984':0, '1985 - 1989':0, '1990 - 1994':0, '1995 - 1999':0,\n",
    "      '2000 - 2004':0, '2005 - 2009':0, '2010 - 2017':0}"
   ]
  },
  {
   "cell_type": "code",
   "execution_count": 172,
   "metadata": {
    "collapsed": false
   },
   "outputs": [
    {
     "data": {
      "text/plain": [
       "['1980', '-', '1984']"
      ]
     },
     "execution_count": 172,
     "metadata": {},
     "output_type": "execute_result"
    }
   ],
   "source": [
    "l = '1980 - 1984'.split()\n",
    "l"
   ]
  },
  {
   "cell_type": "code",
   "execution_count": 173,
   "metadata": {
    "collapsed": true
   },
   "outputs": [],
   "source": [
    "l.remove('-')"
   ]
  },
  {
   "cell_type": "code",
   "execution_count": 174,
   "metadata": {
    "collapsed": false
   },
   "outputs": [
    {
     "data": {
      "text/plain": [
       "['1980', '1984']"
      ]
     },
     "execution_count": 174,
     "metadata": {},
     "output_type": "execute_result"
    }
   ],
   "source": [
    "l"
   ]
  },
  {
   "cell_type": "code",
   "execution_count": 175,
   "metadata": {
    "collapsed": false
   },
   "outputs": [],
   "source": [
    "for chave in dic:\n",
    "    for filme in lista_filmes:\n",
    "        anos = chave.split()\n",
    "        anos.remove('-')\n",
    "        if filme['ano'] >= int(anos[0]) and filme['ano'] <= int(anos[1]):\n",
    "            dic[chave] += 1"
   ]
  },
  {
   "cell_type": "code",
   "execution_count": 176,
   "metadata": {
    "collapsed": false
   },
   "outputs": [
    {
     "data": {
      "text/plain": [
       "{'1938 - 1979': 8,\n",
       " '1980 - 1984': 4,\n",
       " '1985 - 1989': 7,\n",
       " '1990 - 1994': 4,\n",
       " '1995 - 1999': 4,\n",
       " '2000 - 2004': 8,\n",
       " '2005 - 2009': 17,\n",
       " '2010 - 2017': 146}"
      ]
     },
     "execution_count": 176,
     "metadata": {},
     "output_type": "execute_result"
    }
   ],
   "source": [
    "dic"
   ]
  },
  {
   "cell_type": "code",
   "execution_count": 177,
   "metadata": {
    "collapsed": true
   },
   "outputs": [],
   "source": [
    "import seaborn as sns\n",
    "import matplotlib.pyplot as plt\n",
    "\n",
    "%matplotlib inline"
   ]
  },
  {
   "cell_type": "code",
   "execution_count": 178,
   "metadata": {
    "collapsed": true
   },
   "outputs": [],
   "source": [
    "df = pd.DataFrame()\n",
    "df['intervalos_anos'] = dic.keys()\n",
    "df['freq'] = dic.values()"
   ]
  },
  {
   "cell_type": "code",
   "execution_count": 179,
   "metadata": {
    "collapsed": false
   },
   "outputs": [
    {
     "data": {
      "text/html": [
       "<div>\n",
       "<table border=\"1\" class=\"dataframe\">\n",
       "  <thead>\n",
       "    <tr style=\"text-align: right;\">\n",
       "      <th></th>\n",
       "      <th>intervalos_anos</th>\n",
       "      <th>freq</th>\n",
       "    </tr>\n",
       "  </thead>\n",
       "  <tbody>\n",
       "    <tr>\n",
       "      <th>0</th>\n",
       "      <td>1995 - 1999</td>\n",
       "      <td>4</td>\n",
       "    </tr>\n",
       "    <tr>\n",
       "      <th>1</th>\n",
       "      <td>2010 - 2017</td>\n",
       "      <td>146</td>\n",
       "    </tr>\n",
       "    <tr>\n",
       "      <th>2</th>\n",
       "      <td>1980 - 1984</td>\n",
       "      <td>4</td>\n",
       "    </tr>\n",
       "    <tr>\n",
       "      <th>3</th>\n",
       "      <td>2000 - 2004</td>\n",
       "      <td>8</td>\n",
       "    </tr>\n",
       "    <tr>\n",
       "      <th>4</th>\n",
       "      <td>1985 - 1989</td>\n",
       "      <td>7</td>\n",
       "    </tr>\n",
       "    <tr>\n",
       "      <th>5</th>\n",
       "      <td>1990 - 1994</td>\n",
       "      <td>4</td>\n",
       "    </tr>\n",
       "    <tr>\n",
       "      <th>6</th>\n",
       "      <td>2005 - 2009</td>\n",
       "      <td>17</td>\n",
       "    </tr>\n",
       "    <tr>\n",
       "      <th>7</th>\n",
       "      <td>1938 - 1979</td>\n",
       "      <td>8</td>\n",
       "    </tr>\n",
       "  </tbody>\n",
       "</table>\n",
       "</div>"
      ],
      "text/plain": [
       "  intervalos_anos  freq\n",
       "0     1995 - 1999     4\n",
       "1     2010 - 2017   146\n",
       "2     1980 - 1984     4\n",
       "3     2000 - 2004     8\n",
       "4     1985 - 1989     7\n",
       "5     1990 - 1994     4\n",
       "6     2005 - 2009    17\n",
       "7     1938 - 1979     8"
      ]
     },
     "execution_count": 179,
     "metadata": {},
     "output_type": "execute_result"
    }
   ],
   "source": [
    "df"
   ]
  },
  {
   "cell_type": "code",
   "execution_count": 180,
   "metadata": {
    "collapsed": true
   },
   "outputs": [],
   "source": [
    "intervalos_anos = ['1938 - 1979', '1980 - 1984', '1985 - 1989', '1990 - 1994', '1995 - 1999',\n",
    "                  '2000 - 2004', '2005 - 2009', '2010 - 2017']"
   ]
  },
  {
   "cell_type": "code",
   "execution_count": 181,
   "metadata": {
    "collapsed": false
   },
   "outputs": [],
   "source": [
    "freq = [dic[chave] for chave in intervalos_anos]"
   ]
  },
  {
   "cell_type": "code",
   "execution_count": 182,
   "metadata": {
    "collapsed": false
   },
   "outputs": [
    {
     "data": {
      "text/html": [
       "<div>\n",
       "<table border=\"1\" class=\"dataframe\">\n",
       "  <thead>\n",
       "    <tr style=\"text-align: right;\">\n",
       "      <th></th>\n",
       "      <th>intervalos_anos</th>\n",
       "      <th>freq</th>\n",
       "    </tr>\n",
       "  </thead>\n",
       "  <tbody>\n",
       "    <tr>\n",
       "      <th>0</th>\n",
       "      <td>1938 - 1979</td>\n",
       "      <td>8</td>\n",
       "    </tr>\n",
       "    <tr>\n",
       "      <th>1</th>\n",
       "      <td>1980 - 1984</td>\n",
       "      <td>4</td>\n",
       "    </tr>\n",
       "    <tr>\n",
       "      <th>2</th>\n",
       "      <td>1985 - 1989</td>\n",
       "      <td>7</td>\n",
       "    </tr>\n",
       "    <tr>\n",
       "      <th>3</th>\n",
       "      <td>1990 - 1994</td>\n",
       "      <td>4</td>\n",
       "    </tr>\n",
       "    <tr>\n",
       "      <th>4</th>\n",
       "      <td>1995 - 1999</td>\n",
       "      <td>4</td>\n",
       "    </tr>\n",
       "    <tr>\n",
       "      <th>5</th>\n",
       "      <td>2000 - 2004</td>\n",
       "      <td>8</td>\n",
       "    </tr>\n",
       "    <tr>\n",
       "      <th>6</th>\n",
       "      <td>2005 - 2009</td>\n",
       "      <td>17</td>\n",
       "    </tr>\n",
       "    <tr>\n",
       "      <th>7</th>\n",
       "      <td>2010 - 2017</td>\n",
       "      <td>146</td>\n",
       "    </tr>\n",
       "  </tbody>\n",
       "</table>\n",
       "</div>"
      ],
      "text/plain": [
       "  intervalos_anos  freq\n",
       "0     1938 - 1979     8\n",
       "1     1980 - 1984     4\n",
       "2     1985 - 1989     7\n",
       "3     1990 - 1994     4\n",
       "4     1995 - 1999     4\n",
       "5     2000 - 2004     8\n",
       "6     2005 - 2009    17\n",
       "7     2010 - 2017   146"
      ]
     },
     "execution_count": 182,
     "metadata": {},
     "output_type": "execute_result"
    }
   ],
   "source": [
    "df = pd.DataFrame()\n",
    "df['intervalos_anos'] = intervalos_anos\n",
    "df['freq'] = freq\n",
    "\n",
    "df"
   ]
  },
  {
   "cell_type": "code",
   "execution_count": 183,
   "metadata": {
    "collapsed": false
   },
   "outputs": [
    {
     "data": {
      "image/png": "[encoded data removed]",
      "text/plain": [
       "<matplotlib.figure.Figure at 0x7f208dfc2b90>"
      ]
     },
     "metadata": {},
     "output_type": "display_data"
    }
   ],
   "source": [
    "sns.factorplot('intervalos_anos', 'freq', data=df, kind=\"bar\",palette=\"Blues\",size=6,aspect=2,legend_out=False);"
   ]
  },
  {
   "cell_type": "markdown",
   "metadata": {},
   "source": [
    "### Principais países"
   ]
  },
  {
   "cell_type": "code",
   "execution_count": 184,
   "metadata": {
    "collapsed": false
   },
   "outputs": [],
   "source": [
    "paises = [filme['pais'] for filme in lista_filmes]"
   ]
  },
  {
   "cell_type": "code",
   "execution_count": 185,
   "metadata": {
    "collapsed": false
   },
   "outputs": [],
   "source": [
    "unique_data = [list(x) for x in set(tuple(filme['pais']) for filme in lista_filmes if filme['pais']!=None)]"
   ]
  },
  {
   "cell_type": "code",
   "execution_count": 186,
   "metadata": {
    "collapsed": false
   },
   "outputs": [
    {
     "data": {
      "text/plain": [
       "[['France'],\n",
       " ['New Zealand'],\n",
       " ['Canada'],\n",
       " ['UK'],\n",
       " ['USA', 'UK'],\n",
       " ['USA', 'China'],\n",
       " ['Australia'],\n",
       " ['Canada', 'USA'],\n",
       " ['Chile', 'France'],\n",
       " ['USA', 'Canada'],\n",
       " ['UK', 'Germany'],\n",
       " ['USA', 'Germany'],\n",
       " ['Finland'],\n",
       " ['USA'],\n",
       " ['UK', 'USA'],\n",
       " ['USA', 'France'],\n",
       " ['Ireland', 'Canada'],\n",
       " ['Germany', 'USA']]"
      ]
     },
     "execution_count": 186,
     "metadata": {},
     "output_type": "execute_result"
    }
   ],
   "source": [
    "unique_data"
   ]
  },
  {
   "cell_type": "code",
   "execution_count": 187,
   "metadata": {
    "collapsed": false
   },
   "outputs": [],
   "source": [
    "dic = {}\n",
    "for item in unique_data:\n",
    "    pais = ' & '.join(item)\n",
    "    dic[pais] = 0\n",
    "    for filme in lista_filmes:\n",
    "        if filme['pais'] == item:\n",
    "            dic[pais] += 1"
   ]
  },
  {
   "cell_type": "code",
   "execution_count": 188,
   "metadata": {
    "collapsed": false
   },
   "outputs": [
    {
     "data": {
      "text/plain": [
       "{'Australia': 1,\n",
       " 'Canada': 28,\n",
       " 'Canada & USA': 15,\n",
       " 'Chile & France': 1,\n",
       " 'Finland': 1,\n",
       " 'France': 1,\n",
       " 'Germany & USA': 1,\n",
       " 'Ireland & Canada': 1,\n",
       " 'New Zealand': 2,\n",
       " 'UK': 4,\n",
       " 'UK & Germany': 1,\n",
       " 'UK & USA': 3,\n",
       " 'USA': 121,\n",
       " 'USA & Canada': 12,\n",
       " 'USA & China': 1,\n",
       " 'USA & France': 1,\n",
       " 'USA & Germany': 1,\n",
       " 'USA & UK': 1}"
      ]
     },
     "execution_count": 188,
     "metadata": {},
     "output_type": "execute_result"
    }
   ],
   "source": [
    "dic"
   ]
  },
  {
   "cell_type": "code",
   "execution_count": 189,
   "metadata": {
    "collapsed": false
   },
   "outputs": [
    {
     "data": {
      "text/html": [
       "<div>\n",
       "<table border=\"1\" class=\"dataframe\">\n",
       "  <thead>\n",
       "    <tr style=\"text-align: right;\">\n",
       "      <th></th>\n",
       "      <th>paises</th>\n",
       "      <th>freq</th>\n",
       "    </tr>\n",
       "  </thead>\n",
       "  <tbody>\n",
       "    <tr>\n",
       "      <th>0</th>\n",
       "      <td>Canada</td>\n",
       "      <td>28</td>\n",
       "    </tr>\n",
       "    <tr>\n",
       "      <th>1</th>\n",
       "      <td>USA &amp; UK</td>\n",
       "      <td>1</td>\n",
       "    </tr>\n",
       "    <tr>\n",
       "      <th>2</th>\n",
       "      <td>Australia</td>\n",
       "      <td>1</td>\n",
       "    </tr>\n",
       "    <tr>\n",
       "      <th>3</th>\n",
       "      <td>USA</td>\n",
       "      <td>121</td>\n",
       "    </tr>\n",
       "    <tr>\n",
       "      <th>4</th>\n",
       "      <td>USA &amp; Germany</td>\n",
       "      <td>1</td>\n",
       "    </tr>\n",
       "    <tr>\n",
       "      <th>5</th>\n",
       "      <td>Germany &amp; USA</td>\n",
       "      <td>1</td>\n",
       "    </tr>\n",
       "    <tr>\n",
       "      <th>6</th>\n",
       "      <td>Finland</td>\n",
       "      <td>1</td>\n",
       "    </tr>\n",
       "    <tr>\n",
       "      <th>7</th>\n",
       "      <td>France</td>\n",
       "      <td>1</td>\n",
       "    </tr>\n",
       "    <tr>\n",
       "      <th>8</th>\n",
       "      <td>Chile &amp; France</td>\n",
       "      <td>1</td>\n",
       "    </tr>\n",
       "    <tr>\n",
       "      <th>9</th>\n",
       "      <td>UK &amp; Germany</td>\n",
       "      <td>1</td>\n",
       "    </tr>\n",
       "    <tr>\n",
       "      <th>10</th>\n",
       "      <td>UK</td>\n",
       "      <td>4</td>\n",
       "    </tr>\n",
       "    <tr>\n",
       "      <th>11</th>\n",
       "      <td>UK &amp; USA</td>\n",
       "      <td>3</td>\n",
       "    </tr>\n",
       "    <tr>\n",
       "      <th>12</th>\n",
       "      <td>Canada &amp; USA</td>\n",
       "      <td>15</td>\n",
       "    </tr>\n",
       "    <tr>\n",
       "      <th>13</th>\n",
       "      <td>New Zealand</td>\n",
       "      <td>2</td>\n",
       "    </tr>\n",
       "    <tr>\n",
       "      <th>14</th>\n",
       "      <td>USA &amp; Canada</td>\n",
       "      <td>12</td>\n",
       "    </tr>\n",
       "    <tr>\n",
       "      <th>15</th>\n",
       "      <td>USA &amp; France</td>\n",
       "      <td>1</td>\n",
       "    </tr>\n",
       "    <tr>\n",
       "      <th>16</th>\n",
       "      <td>USA &amp; China</td>\n",
       "      <td>1</td>\n",
       "    </tr>\n",
       "    <tr>\n",
       "      <th>17</th>\n",
       "      <td>Ireland &amp; Canada</td>\n",
       "      <td>1</td>\n",
       "    </tr>\n",
       "  </tbody>\n",
       "</table>\n",
       "</div>"
      ],
      "text/plain": [
       "              paises  freq\n",
       "0             Canada    28\n",
       "1           USA & UK     1\n",
       "2          Australia     1\n",
       "3                USA   121\n",
       "4      USA & Germany     1\n",
       "5      Germany & USA     1\n",
       "6            Finland     1\n",
       "7             France     1\n",
       "8     Chile & France     1\n",
       "9       UK & Germany     1\n",
       "10                UK     4\n",
       "11          UK & USA     3\n",
       "12      Canada & USA    15\n",
       "13       New Zealand     2\n",
       "14      USA & Canada    12\n",
       "15      USA & France     1\n",
       "16       USA & China     1\n",
       "17  Ireland & Canada     1"
      ]
     },
     "execution_count": 189,
     "metadata": {},
     "output_type": "execute_result"
    }
   ],
   "source": [
    "df = pd.DataFrame()\n",
    "df['paises'] = dic.keys()\n",
    "df['freq'] = dic.values()\n",
    "df"
   ]
  },
  {
   "cell_type": "code",
   "execution_count": 190,
   "metadata": {
    "collapsed": true
   },
   "outputs": [],
   "source": [
    "df = df[df['freq'] >= 10]"
   ]
  },
  {
   "cell_type": "code",
   "execution_count": 191,
   "metadata": {
    "collapsed": false
   },
   "outputs": [
    {
     "data": {
      "text/html": [
       "<div>\n",
       "<table border=\"1\" class=\"dataframe\">\n",
       "  <thead>\n",
       "    <tr style=\"text-align: right;\">\n",
       "      <th></th>\n",
       "      <th>paises</th>\n",
       "      <th>freq</th>\n",
       "    </tr>\n",
       "  </thead>\n",
       "  <tbody>\n",
       "    <tr>\n",
       "      <th>0</th>\n",
       "      <td>Canada</td>\n",
       "      <td>28</td>\n",
       "    </tr>\n",
       "    <tr>\n",
       "      <th>3</th>\n",
       "      <td>USA</td>\n",
       "      <td>121</td>\n",
       "    </tr>\n",
       "    <tr>\n",
       "      <th>12</th>\n",
       "      <td>Canada &amp; USA</td>\n",
       "      <td>15</td>\n",
       "    </tr>\n",
       "    <tr>\n",
       "      <th>14</th>\n",
       "      <td>USA &amp; Canada</td>\n",
       "      <td>12</td>\n",
       "    </tr>\n",
       "  </tbody>\n",
       "</table>\n",
       "</div>"
      ],
      "text/plain": [
       "          paises  freq\n",
       "0         Canada    28\n",
       "3            USA   121\n",
       "12  Canada & USA    15\n",
       "14  USA & Canada    12"
      ]
     },
     "execution_count": 191,
     "metadata": {},
     "output_type": "execute_result"
    }
   ],
   "source": [
    "df"
   ]
  },
  {
   "cell_type": "code",
   "execution_count": 192,
   "metadata": {
    "collapsed": false
   },
   "outputs": [
    {
     "data": {
      "image/png": "[encoded data removed]",
      "text/plain": [
       "<matplotlib.figure.Figure at 0x7f208d0d1c10>"
      ]
     },
     "metadata": {},
     "output_type": "display_data"
    }
   ],
   "source": [
    "sns.factorplot('paises', 'freq', data=df, kind=\"bar\",palette=\"Blues\",size=6,aspect=2,legend_out=False);"
   ]
  },
  {
   "cell_type": "markdown",
   "metadata": {},
   "source": [
    "### Media, Variância e Distribuição dos scores e durações dos filmes"
   ]
  },
  {
   "cell_type": "code",
   "execution_count": 193,
   "metadata": {
    "collapsed": true
   },
   "outputs": [],
   "source": [
    "from scipy import stats"
   ]
  },
  {
   "cell_type": "code",
   "execution_count": 194,
   "metadata": {
    "collapsed": false
   },
   "outputs": [],
   "source": [
    "scores = [filme['score'] for filme in lista_filmes if filme['score'] != None]"
   ]
  },
  {
   "cell_type": "code",
   "execution_count": 195,
   "metadata": {
    "collapsed": false
   },
   "outputs": [
    {
     "data": {
      "text/plain": [
       "194"
      ]
     },
     "execution_count": 195,
     "metadata": {},
     "output_type": "execute_result"
    }
   ],
   "source": [
    "len(scores)"
   ]
  },
  {
   "cell_type": "code",
   "execution_count": 196,
   "metadata": {
    "collapsed": false
   },
   "outputs": [
    {
     "data": {
      "text/plain": [
       "DescribeResult(nobs=194, minmax=(1.5, 8.8000000000000007), mean=6.3345360824742274, variance=0.76869745205918494, skewness=-0.8712936093396618, kurtosis=4.62485479456394)"
      ]
     },
     "execution_count": 196,
     "metadata": {},
     "output_type": "execute_result"
    }
   ],
   "source": [
    "# medidas resumo\n",
    "stats.describe(scores) "
   ]
  },
  {
   "cell_type": "code",
   "execution_count": 197,
   "metadata": {
    "collapsed": false
   },
   "outputs": [
    {
     "data": {
      "image/png": "[encoded data removed]",
      "text/plain": [
       "<matplotlib.figure.Figure at 0x7f208ed9c510>"
      ]
     },
     "metadata": {},
     "output_type": "display_data"
    }
   ],
   "source": [
    "# distribuição\n",
    "sns.distplot(scores, bins=range(0, 10, 1));"
   ]
  },
  {
   "cell_type": "code",
   "execution_count": 198,
   "metadata": {
    "collapsed": true
   },
   "outputs": [],
   "source": [
    "duracao = [filme['duracao'] for filme in lista_filmes if filme['duracao'] != None]"
   ]
  },
  {
   "cell_type": "code",
   "execution_count": 199,
   "metadata": {
    "collapsed": false
   },
   "outputs": [
    {
     "data": {
      "text/plain": [
       "172"
      ]
     },
     "execution_count": 199,
     "metadata": {},
     "output_type": "execute_result"
    }
   ],
   "source": [
    "len(duracao)"
   ]
  },
  {
   "cell_type": "code",
   "execution_count": 200,
   "metadata": {
    "collapsed": false
   },
   "outputs": [
    {
     "data": {
      "text/plain": [
       "DescribeResult(nobs=172, minmax=(25, 150), mean=90.488372093023258, variance=279.8419692642459, skewness=-0.9755307407849242, kurtosis=5.523599441915891)"
      ]
     },
     "execution_count": 200,
     "metadata": {},
     "output_type": "execute_result"
    }
   ],
   "source": [
    "# medidas resumo\n",
    "stats.describe(duracao)"
   ]
  },
  {
   "cell_type": "code",
   "execution_count": 201,
   "metadata": {
    "collapsed": false
   },
   "outputs": [
    {
     "data": {
      "image/png": "[encoded data removed]",
      "text/plain": [
       "<matplotlib.figure.Figure at 0x7f208dceec90>"
      ]
     },
     "metadata": {},
     "output_type": "display_data"
    }
   ],
   "source": [
    "# variável duracao é uma lista de valores\n",
    "sns.distplot(duracao, bins=range(0, 200, 10));"
   ]
  },
  {
   "cell_type": "markdown",
   "metadata": {},
   "source": [
    "### Filmes com maiores rates"
   ]
  },
  {
   "cell_type": "markdown",
   "metadata": {},
   "source": [
    "Vamos obter os 5 filmes com maiores rates"
   ]
  },
  {
   "cell_type": "code",
   "execution_count": 202,
   "metadata": {
    "collapsed": false
   },
   "outputs": [],
   "source": [
    "# vamos criar uma lista de tuplas (título, score)\n",
    "\n",
    "titulo = [filme['titulo'] for filme in lista_filmes\n",
    "                                    if filme['score'] != None ]"
   ]
  },
  {
   "cell_type": "code",
   "execution_count": 204,
   "metadata": {
    "collapsed": false
   },
   "outputs": [],
   "source": [
    "titulo_score = zip(titulo, scores)"
   ]
  },
  {
   "cell_type": "code",
   "execution_count": 205,
   "metadata": {
    "collapsed": true
   },
   "outputs": [],
   "source": [
    "from operator import itemgetter\n",
    "\n",
    "titulo_score.sort(key=lambda tup: tup[1], reverse=True)"
   ]
  },
  {
   "cell_type": "code",
   "execution_count": 206,
   "metadata": {
    "collapsed": false
   },
   "outputs": [],
   "source": [
    "df_titulo_score = pd.DataFrame(titulo_score, columns=['filme', 'score'])"
   ]
  },
  {
   "cell_type": "code",
   "execution_count": 207,
   "metadata": {
    "collapsed": false
   },
   "outputs": [
    {
     "data": {
      "text/html": [
       "<div>\n",
       "<table border=\"1\" class=\"dataframe\">\n",
       "  <thead>\n",
       "    <tr style=\"text-align: right;\">\n",
       "      <th></th>\n",
       "      <th>filme</th>\n",
       "      <th>score</th>\n",
       "    </tr>\n",
       "  </thead>\n",
       "  <tbody>\n",
       "    <tr>\n",
       "      <th>0</th>\n",
       "      <td>Christmas</td>\n",
       "      <td>8.8</td>\n",
       "    </tr>\n",
       "    <tr>\n",
       "      <th>1</th>\n",
       "      <td>O Natal do Charlie Brown</td>\n",
       "      <td>8.4</td>\n",
       "    </tr>\n",
       "    <tr>\n",
       "      <th>2</th>\n",
       "      <td>Como o Grinch roubou o Natal</td>\n",
       "      <td>8.4</td>\n",
       "    </tr>\n",
       "    <tr>\n",
       "      <th>3</th>\n",
       "      <td>Contos de Natal</td>\n",
       "      <td>8.1</td>\n",
       "    </tr>\n",
       "    <tr>\n",
       "      <th>4</th>\n",
       "      <td>Uma Hist\\u00f3ria de Natal</td>\n",
       "      <td>8.0</td>\n",
       "    </tr>\n",
       "  </tbody>\n",
       "</table>\n",
       "</div>"
      ],
      "text/plain": [
       "                          filme  score\n",
       "0                     Christmas    8.8\n",
       "1      O Natal do Charlie Brown    8.4\n",
       "2  Como o Grinch roubou o Natal    8.4\n",
       "3               Contos de Natal    8.1\n",
       "4    Uma Hist\\u00f3ria de Natal    8.0"
      ]
     },
     "execution_count": 207,
     "metadata": {},
     "output_type": "execute_result"
    }
   ],
   "source": [
    "df_titulo_score.head()"
   ]
  },
  {
   "cell_type": "markdown",
   "metadata": {},
   "source": [
    "### Filmes com mais reviews"
   ]
  },
  {
   "cell_type": "code",
   "execution_count": 208,
   "metadata": {
    "collapsed": true
   },
   "outputs": [],
   "source": [
    "titulo_reviews = [(filme['titulo'], filme['qtd_reviews']) for filme in lista_filmes\n",
    "                                                         if filme['qtd_reviews'] != None]"
   ]
  },
  {
   "cell_type": "code",
   "execution_count": 209,
   "metadata": {
    "collapsed": true
   },
   "outputs": [],
   "source": [
    "titulo_reviews.sort(key=lambda tup: tup[1], reverse=True)"
   ]
  },
  {
   "cell_type": "code",
   "execution_count": 210,
   "metadata": {
    "collapsed": false
   },
   "outputs": [
    {
     "data": {
      "text/html": [
       "<div>\n",
       "<table border=\"1\" class=\"dataframe\">\n",
       "  <thead>\n",
       "    <tr style=\"text-align: right;\">\n",
       "      <th></th>\n",
       "      <th>filme</th>\n",
       "      <th>qtd_reviews</th>\n",
       "    </tr>\n",
       "  </thead>\n",
       "  <tbody>\n",
       "    <tr>\n",
       "      <th>0</th>\n",
       "      <td>O Grinch</td>\n",
       "      <td>490</td>\n",
       "    </tr>\n",
       "    <tr>\n",
       "      <th>1</th>\n",
       "      <td>Uma Hist\\u00f3ria de Natal</td>\n",
       "      <td>470</td>\n",
       "    </tr>\n",
       "    <tr>\n",
       "      <th>2</th>\n",
       "      <td>O Estranho Mundo de Jack</td>\n",
       "      <td>452</td>\n",
       "    </tr>\n",
       "    <tr>\n",
       "      <th>3</th>\n",
       "      <td>Noite do Terror</td>\n",
       "      <td>353</td>\n",
       "    </tr>\n",
       "    <tr>\n",
       "      <th>4</th>\n",
       "      <td>Natal Negro</td>\n",
       "      <td>285</td>\n",
       "    </tr>\n",
       "  </tbody>\n",
       "</table>\n",
       "</div>"
      ],
      "text/plain": [
       "                        filme  qtd_reviews\n",
       "0                    O Grinch          490\n",
       "1  Uma Hist\\u00f3ria de Natal          470\n",
       "2    O Estranho Mundo de Jack          452\n",
       "3             Noite do Terror          353\n",
       "4                 Natal Negro          285"
      ]
     },
     "execution_count": 210,
     "metadata": {},
     "output_type": "execute_result"
    }
   ],
   "source": [
    "df_titulo_reviews = pd.DataFrame(titulo_reviews, columns=['filme', 'qtd_reviews'])\n",
    "df_titulo_reviews.head()"
   ]
  },
  {
   "cell_type": "code",
   "execution_count": 211,
   "metadata": {
    "collapsed": true
   },
   "outputs": [],
   "source": [
    "# Noite do Terror http://www.imdb.com/title/tt0071222/?ref_=fn_tt_tt_76"
   ]
  },
  {
   "cell_type": "markdown",
   "metadata": {
    "collapsed": true
   },
   "source": [
    "### Principais gêneros"
   ]
  },
  {
   "cell_type": "code",
   "execution_count": 237,
   "metadata": {
    "collapsed": true
   },
   "outputs": [],
   "source": [
    "generos= []\n",
    "for filme in lista_filmes:\n",
    "    if filme['genero'] != None:\n",
    "        for genero in filme['genero']:\n",
    "            generos.append(genero)"
   ]
  },
  {
   "cell_type": "code",
   "execution_count": 239,
   "metadata": {
    "collapsed": false
   },
   "outputs": [],
   "source": [
    "generos = set(generos) "
   ]
  },
  {
   "cell_type": "code",
   "execution_count": 240,
   "metadata": {
    "collapsed": false
   },
   "outputs": [
    {
     "data": {
      "text/plain": [
       "{' Action',\n",
       " ' Adventure',\n",
       " ' Animation',\n",
       " ' Biography',\n",
       " ' Comedy',\n",
       " ' Crime',\n",
       " ' Drama',\n",
       " ' Family',\n",
       " ' Fantasy',\n",
       " ' Horror',\n",
       " ' Music',\n",
       " ' Musical',\n",
       " ' Mystery',\n",
       " ' Romance',\n",
       " ' Short',\n",
       " ' Thriller'}"
      ]
     },
     "execution_count": 240,
     "metadata": {},
     "output_type": "execute_result"
    }
   ],
   "source": [
    "generos"
   ]
  },
  {
   "cell_type": "code",
   "execution_count": 243,
   "metadata": {
    "collapsed": false
   },
   "outputs": [],
   "source": [
    "dic = {}\n",
    "for genero in generos:\n",
    "    n = 0\n",
    "    for filme in lista_filmes:\n",
    "        if filme['genero'] != None and genero in filme['genero']:\n",
    "            n += 1\n",
    "        dic[genero] = n"
   ]
  },
  {
   "cell_type": "code",
   "execution_count": 244,
   "metadata": {
    "collapsed": false
   },
   "outputs": [
    {
     "data": {
      "text/plain": [
       "{' Action': 1,\n",
       " ' Adventure': 3,\n",
       " ' Animation': 7,\n",
       " ' Biography': 1,\n",
       " ' Comedy': 91,\n",
       " ' Crime': 2,\n",
       " ' Drama': 94,\n",
       " ' Family': 73,\n",
       " ' Fantasy': 30,\n",
       " ' Horror': 6,\n",
       " ' Music': 4,\n",
       " ' Musical': 7,\n",
       " ' Mystery': 3,\n",
       " ' Romance': 94,\n",
       " ' Short': 4,\n",
       " ' Thriller': 4}"
      ]
     },
     "execution_count": 244,
     "metadata": {},
     "output_type": "execute_result"
    }
   ],
   "source": [
    "dic"
   ]
  },
  {
   "cell_type": "code",
   "execution_count": 250,
   "metadata": {
    "collapsed": false
   },
   "outputs": [],
   "source": [
    "df = pd.DataFrame()"
   ]
  },
  {
   "cell_type": "code",
   "execution_count": 251,
   "metadata": {
    "collapsed": true
   },
   "outputs": [],
   "source": [
    "df['generos'] = dic.keys()\n",
    "df['freq'] = dic.values()"
   ]
  },
  {
   "cell_type": "code",
   "execution_count": 254,
   "metadata": {
    "collapsed": false
   },
   "outputs": [
    {
     "data": {
      "image/png": "[encoded data removed]",
      "text/plain": [
       "<matplotlib.figure.Figure at 0x7f208f166cd0>"
      ]
     },
     "metadata": {},
     "output_type": "display_data"
    }
   ],
   "source": [
    "sns.factorplot('generos', 'freq', data=df, kind=\"bar\",palette=\"Blues\",size=6,aspect=2,legend_out=False);"
   ]
  },
  {
   "cell_type": "code",
   "execution_count": 260,
   "metadata": {
    "collapsed": false
   },
   "outputs": [
    {
     "data": {
      "image/png": "[encoded data removed]",
      "text/plain": [
       "<matplotlib.figure.Figure at 0x7f208de1a790>"
      ]
     },
     "metadata": {},
     "output_type": "display_data"
    }
   ],
   "source": [
    "group_names = ['2-3 km', '3-5 km', '5-7 km', '7-10 km', '10-20 km', '20-50 km', \n",
    "               '50-75 km', '75-100 km', '>100 km']\n",
    "\n",
    "counts = pd.Series(dic.values(), index=dic.keys())\n",
    "\n",
    "explode = (0, 0, 0, 0.1, 0.1, 0.2, 0.3, 0.4, 0.6)\n",
    "\n",
    "counts.plot(kind='pie', fontsize=10)\n",
    "plt.axis('equal')\n",
    "plt.ylabel('')\n",
    "plt.legend(labels=counts.index, loc=\"best\")\n",
    "plt.show()"
   ]
  },
  {
   "cell_type": "code",
   "execution_count": null,
   "metadata": {
    "collapsed": true
   },
   "outputs": [],
   "source": []
  }
 ],
 "metadata": {
  "anaconda-cloud": {},
  "kernelspec": {
   "display_name": "Python [conda root]",
   "language": "python",
   "name": "conda-root-py"
  },
  "language_info": {
   "codemirror_mode": {
    "name": "ipython",
    "version": 2
   },
   "file_extension": ".py",
   "mimetype": "text/x-python",
   "name": "python",
   "nbconvert_exporter": "python",
   "pygments_lexer": "ipython2",
   "version": "2.7.12"
  }
 },
 "nbformat": 4,
 "nbformat_minor": 2
}
