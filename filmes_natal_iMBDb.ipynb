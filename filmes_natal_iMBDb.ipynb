{
 "cells": [
  {
   "cell_type": "markdown",
   "metadata": {},
   "source": [
    "<img src='filmes_natal.jpg'>"
   ]
  },
  {
   "cell_type": "markdown",
   "metadata": {},
   "source": [
    "# Problema\n",
    "\n",
    "Obter uma lista de filmes sobre o tema Natal no site iMDb e, para cada filme, as seguintes informações:\n",
    "\n",
    "* Título\n",
    "* link iMDb com mais informações sobre o filme\n",
    "* Sinópse\n",
    "* Diretor\n",
    "* Gênero\n",
    "* País\n",
    "* Idioma\n",
    "* Tempo de duração em minutos\n",
    "* Atores principais\n",
    "* Score\n",
    "* Ano\n",
    "* Popularidade\n",
    "* Quantidade de reviews de usuários iMDb\n",
    "\n",
    "Antes de atacarmos esse problema, precisamos entender algumas coisas básicas."
   ]
  },
  {
   "cell_type": "markdown",
   "metadata": {},
   "source": [
    "# Componentes de uma página web"
   ]
  },
  {
   "cell_type": "markdown",
   "metadata": {},
   "source": [
    "Quando visitamos uma página, nosso navegador faz uma solicitação à um servidor de Internet. Essa solicitação é chamada de solicitação GET, pois estamos recebendo arquivos do servidor. O servidor então envia arquivos que dizem ao navegador como renderizar a página para nós. Os arquivos se enquadram em alguns tipos principais:\n",
    "\n",
    "* HTML: Contém o conteúdo principal da página;\n",
    "* CSS: Adiciona estilos para que a página fique mais bonita;\n",
    "* JS: Arquivos JavaScript adicionam interatividade à página;\n",
    "* Imagens: formatos de imagem, tais como JPG e PNG permitem que páginas web exibam imagens.\n",
    "\n",
    "Após nosso navegador receber todos os arquivos, ele renderiza a página e a exibe para nós. Existem muitas coisas que acontecem no background para renderizar bem uma página, mas não precisamos nos preocupar com a maioria delas quando estamos realizando o web scraping. Quando realizamos o web scraping, estamos interessados no conteúdo principal da página, então olharemos para o HTML."
   ]
  },
  {
   "cell_type": "markdown",
   "metadata": {},
   "source": [
    "# Entendendo HTML"
   ]
  },
  {
   "cell_type": "markdown",
   "metadata": {},
   "source": [
    "HyperText Markup Language (HTML) é uma linguagem com que as páginas web são criadas. O HTML não é uma linguagem de programação, como o Python – em vez disso, é uma linguagem de marcação que diz ao navegador como exibir o conteúdo. O HTML permite que você faça coisas similares ao Microsoft Word – criar parágrafos, deixar textos em negrito etc. Por não ser uma linguagem de programação, o HTML nem se aproxima da complexidade do Python."
   ]
  },
  {
   "cell_type": "markdown",
   "metadata": {},
   "source": [
    "O HTML é formado por elementos chamados tags. Veja uma exemplo de código em HTML:\n",
    "\n",
    "```HTML\n",
    "<html>\n",
    "    <head>\n",
    "    </head>\n",
    "    <body>\n",
    "        <p>\n",
    "            Aqui um exemplo de parágrafo com texto.\n",
    "            <a href=\"https://www.dataquest.io\">Learn Data Science Online</a>\n",
    "        </p>\n",
    "        <p>\n",
    "            Aqui um segundo exemplo de parágrafo com texto.\n",
    "            <a href=\"https://www.python.org\">Python</a>\n",
    "        </p>\n",
    "    </body>\n",
    "</html>\n",
    "```"
   ]
  },
  {
   "cell_type": "markdown",
   "metadata": {},
   "source": [
    "No exemplo acima, temos duas tags a. As tags a são links, e dizem ao navegador para renderizar uma outra página. A propriedade href determina para onde o link vai. As tags a e p são extremamente comuns, a seguir temos outras:\n",
    "\n",
    "* div – indica uma divisão, uma área na página;\n",
    "* b – deixa qualquer texto dentro dela em negrito;\n",
    "* i – deixa em itálico;\n",
    "* table – cria uma tabela;\n",
    "* form – cria um formulário;\n",
    "\n",
    "Para uma lista completa de tags, clique [aqui](https://developer.mozilla.org/pt-BR/docs/Web/HTML/HTML5/HTML5_element_list)."
   ]
  },
  {
   "cell_type": "markdown",
   "metadata": {},
   "source": [
    "# A biblioteca requests\n",
    "\n",
    "A primeira coisa que precisamos fazer para realizar o web scrap é baixar a página. Podemos baixar as páginas utilizando a biblioteca requests do Python. A biblioteca requests fará uma solicitação GET ao servidor, que fará o download dos conteúdos HTML da página solicitada para nós. Existem vários tipos de solicitação diferentes que podemos realizar utilizando a biblioteca requests – GET é apenas um deles."
   ]
  },
  {
   "cell_type": "markdown",
   "metadata": {},
   "source": [
    "# A Biblioteca BeautifulSoup\n",
    "\n",
    "Depois de baixamos um documento HTML da página que desejamos usando o requests. Nós podemos utilizar a biblioteca BeautifulSoup para analisar esse documento e extrair o conteúdo das tags que desejamos."
   ]
  },
  {
   "cell_type": "markdown",
   "metadata": {},
   "source": [
    "# Importando as Bibliotecas"
   ]
  },
  {
   "cell_type": "code",
   "execution_count": 1,
   "metadata": {
    "collapsed": true
   },
   "outputs": [],
   "source": [
    "import requests # para se conectar a página web\n",
    "from bs4 import BeautifulSoup # para extrair informações do html\n",
    "import pandas as pd # para manusear os dados e salva-los em csv "
   ]
  },
  {
   "cell_type": "markdown",
   "metadata": {},
   "source": [
    "# Obtendo os títulos e links dos Filmes"
   ]
  },
  {
   "cell_type": "code",
   "execution_count": 2,
   "metadata": {
    "collapsed": true
   },
   "outputs": [],
   "source": [
    "# url que lista filmes sobre o tema natal \n",
    "url_fonte = 'http://www.imdb.com/find?q=Christmas&s=tt&ref_=fn_tt'"
   ]
  },
  {
   "cell_type": "code",
   "execution_count": 3,
   "metadata": {
    "collapsed": false
   },
   "outputs": [],
   "source": [
    "# obtendo conteúdo da página\n",
    "con = requests.get(url_fonte)"
   ]
  },
  {
   "cell_type": "code",
   "execution_count": 4,
   "metadata": {
    "collapsed": true
   },
   "outputs": [],
   "source": [
    "# criando objeto BeautifulSoup \n",
    "soup = BeautifulSoup(con.content, \"html.parser\")"
   ]
  },
  {
   "cell_type": "code",
   "execution_count": 5,
   "metadata": {
    "collapsed": true
   },
   "outputs": [],
   "source": [
    "titulos_filmes = [div.find('a').contents[0] for div in soup.findAll('td', attrs={'class':'result_text'})]"
   ]
  },
  {
   "cell_type": "code",
   "execution_count": 6,
   "metadata": {
    "collapsed": false
   },
   "outputs": [],
   "source": [
    "links_filmes = ['http://www.imdb.com' + div.a['href'] for div in soup.findAll('td', attrs={'class':'result_text'})]"
   ]
  },
  {
   "cell_type": "markdown",
   "metadata": {},
   "source": [
    "# Obtendo as informações de cada filme"
   ]
  },
  {
   "cell_type": "markdown",
   "metadata": {},
   "source": [
    "### Sinópse"
   ]
  },
  {
   "cell_type": "code",
   "execution_count": 49,
   "metadata": {
    "collapsed": true
   },
   "outputs": [],
   "source": [
    "url_filme = 'http://www.imdb.com/title/tt4537842/?ref_=rvi_tt'"
   ]
  },
  {
   "cell_type": "code",
   "execution_count": 50,
   "metadata": {
    "collapsed": true
   },
   "outputs": [],
   "source": [
    "# obtendo conteúdo da página\n",
    "con = requests.get(url_filme)\n",
    "\n",
    "# criando objeto BeautifulSoup \n",
    "soup = BeautifulSoup(con.content, \"html.parser\")"
   ]
  },
  {
   "cell_type": "code",
   "execution_count": 10,
   "metadata": {
    "collapsed": true
   },
   "outputs": [],
   "source": [
    "# <div class=\"summary_text\" itemprop=\"description\">\n",
    "sinopse =  soup.find('div', attrs={'class':'summary_text'})"
   ]
  },
  {
   "cell_type": "code",
   "execution_count": 11,
   "metadata": {
    "collapsed": false
   },
   "outputs": [
    {
     "name": "stdout",
     "output_type": "stream",
     "text": [
      "\n",
      "Add a Plot »\n",
      "            \n"
     ]
    }
   ],
   "source": [
    "print sinopse.text        "
   ]
  },
  {
   "cell_type": "code",
   "execution_count": 12,
   "metadata": {
    "collapsed": true
   },
   "outputs": [],
   "source": [
    "# Fazendo função que irá capturar essa informação para nós\n",
    "\n",
    "def get_sinopse(soup):\n",
    "    '''\n",
    "    Função rebe um objeto BeautifulSoup\n",
    "    chamado soup com o html da página do filme\n",
    "    desejado e retorna uma string da sinópse do filme.\n",
    "    Caso não haja uma sinópse, retorna None.\n",
    "    '''\n",
    "    sinopse =  soup.find('div', attrs={'class':'summary_text'})\n",
    "    \n",
    "    if sinopse.text:\n",
    "        return sinopse.text\n",
    "    else:\n",
    "        return None"
   ]
  },
  {
   "cell_type": "code",
   "execution_count": 13,
   "metadata": {
    "collapsed": false
   },
   "outputs": [
    {
     "name": "stdout",
     "output_type": "stream",
     "text": [
      "\n",
      "                    The Griswold family's plans for a big family Christmas predictably turn into a big disaster.\n",
      "            \n",
      "\n",
      "Add a Plot »\n",
      "            \n"
     ]
    }
   ],
   "source": [
    "# testando função\n",
    "\n",
    "url_filme_com_sinopse = 'http://www.imdb.com/title/tt0097958/?ref_=fn_tt_tt_4'\n",
    "url_filme_sem_sinopse = 'http://www.imdb.com/title/tt1410207/?ref_=fn_tt_tt_1'\n",
    "\n",
    "urls = [url_filme_com_sinopse, url_filme_sem_sinopse]\n",
    "\n",
    "for url in urls:\n",
    "    con = requests.get(url)\n",
    "    soup = BeautifulSoup(con.content, \"html.parser\")\n",
    "    print get_sinopse(soup)"
   ]
  },
  {
   "cell_type": "markdown",
   "metadata": {},
   "source": [
    "### Diretor"
   ]
  },
  {
   "cell_type": "code",
   "execution_count": 14,
   "metadata": {
    "collapsed": true
   },
   "outputs": [],
   "source": [
    "# <span class=\"itemprop\" itemprop=\"name\">Jeremiah S. Chechik</span>\n",
    "diretor =  soup.find('span', attrs={'class':'itemprop'}, itemprop='name')"
   ]
  },
  {
   "cell_type": "code",
   "execution_count": 15,
   "metadata": {
    "collapsed": false
   },
   "outputs": [
    {
     "name": "stdout",
     "output_type": "stream",
     "text": [
      "Sebastián Lelio\n"
     ]
    }
   ],
   "source": [
    "print diretor.text"
   ]
  },
  {
   "cell_type": "code",
   "execution_count": 16,
   "metadata": {
    "collapsed": true
   },
   "outputs": [],
   "source": [
    "def get_diretor(soup):\n",
    "    '''\n",
    "    retorna uma lista com \n",
    "    os gêneros do filme\n",
    "    '''\n",
    "    diretor =  soup.find('span', attrs={'class':'itemprop'}, itemprop='name')\n",
    "    if diretor.text:\n",
    "        return diretor.text\n",
    "    else:\n",
    "        return None"
   ]
  },
  {
   "cell_type": "markdown",
   "metadata": {},
   "source": [
    "### Gênero"
   ]
  },
  {
   "cell_type": "code",
   "execution_count": 17,
   "metadata": {
    "collapsed": true
   },
   "outputs": [],
   "source": [
    "# tags com as informações do Gênero dos filmes\n",
    "'''\n",
    "<div class=\"see-more inline canwrap\" itemprop=\"genre\">\n",
    "            <h4 class=\"inline\">Genres:</h4>\n",
    "<a href=\"/genre/Comedy?ref_=tt_stry_gnr\"> Comedy</a>\n",
    "        </div>\n",
    "'''\n",
    "\n",
    "div =  soup.find('div', attrs={'class':'see-more inline canwrap'}, itemprop='genre')"
   ]
  },
  {
   "cell_type": "code",
   "execution_count": 18,
   "metadata": {
    "collapsed": false
   },
   "outputs": [],
   "source": [
    "generos = [a.text for a in div.find_all('a')]"
   ]
  },
  {
   "cell_type": "code",
   "execution_count": 19,
   "metadata": {
    "collapsed": false
   },
   "outputs": [
    {
     "data": {
      "text/plain": [
       "[u' Drama', u' Romance']"
      ]
     },
     "execution_count": 19,
     "metadata": {},
     "output_type": "execute_result"
    }
   ],
   "source": [
    "generos"
   ]
  },
  {
   "cell_type": "code",
   "execution_count": 82,
   "metadata": {
    "collapsed": true
   },
   "outputs": [],
   "source": [
    "def get_generos(soup):\n",
    "    div =  soup.find('div', attrs={'class':'see-more inline canwrap'}, itemprop='genre')\n",
    "    if div != None:\n",
    "        div =  soup.find('div', attrs={'class':'see-more inline canwrap'}, itemprop='genre')\n",
    "        generos = [a.text for a in div.find_all('a')]\n",
    "    else:\n",
    "        return None"
   ]
  },
  {
   "cell_type": "markdown",
   "metadata": {},
   "source": [
    "### País"
   ]
  },
  {
   "cell_type": "code",
   "execution_count": 21,
   "metadata": {
    "collapsed": false
   },
   "outputs": [],
   "source": [
    "'''\n",
    "    <div class=\"txt-block\">\n",
    "    <h4 class=\"inline\">Country:</h4>\n",
    "        <a href=\"/search/title?country_of_origin=cl&amp;ref_=tt_dt_dt\" itemprop=\"url\">Chile</a>\n",
    "              <span class=\"ghost\">|</span>\n",
    "        <a href=\"/search/title?country_of_origin=fr&amp;ref_=tt_dt_dt\" itemprop=\"url\">France</a>\n",
    "'''\n",
    "\n",
    "\n",
    "tags_paises = soup.select(\"a[href*=country_of_origin]\")"
   ]
  },
  {
   "cell_type": "code",
   "execution_count": 22,
   "metadata": {
    "collapsed": false
   },
   "outputs": [
    {
     "data": {
      "text/plain": [
       "[<a href=\"/search/title?country_of_origin=cl&amp;ref_=tt_dt_dt\" itemprop=\"url\">Chile</a>,\n",
       " <a href=\"/search/title?country_of_origin=fr&amp;ref_=tt_dt_dt\" itemprop=\"url\">France</a>]"
      ]
     },
     "execution_count": 22,
     "metadata": {},
     "output_type": "execute_result"
    }
   ],
   "source": [
    "tags_paises"
   ]
  },
  {
   "cell_type": "code",
   "execution_count": 23,
   "metadata": {
    "collapsed": false
   },
   "outputs": [
    {
     "data": {
      "text/plain": [
       "2"
      ]
     },
     "execution_count": 23,
     "metadata": {},
     "output_type": "execute_result"
    }
   ],
   "source": [
    "len(tags_paises)"
   ]
  },
  {
   "cell_type": "code",
   "execution_count": 24,
   "metadata": {
    "collapsed": true
   },
   "outputs": [],
   "source": [
    "paises = [a.text for a in tags_paises]"
   ]
  },
  {
   "cell_type": "code",
   "execution_count": 25,
   "metadata": {
    "collapsed": false
   },
   "outputs": [
    {
     "data": {
      "text/plain": [
       "[u'Chile', u'France']"
      ]
     },
     "execution_count": 25,
     "metadata": {},
     "output_type": "execute_result"
    }
   ],
   "source": [
    "paises"
   ]
  },
  {
   "cell_type": "code",
   "execution_count": 26,
   "metadata": {
    "collapsed": true
   },
   "outputs": [],
   "source": [
    "def get_paises(soup):\n",
    "    tags_paises = soup.select(\"a[href*=country_of_origin]\")\n",
    "    if len(tags_paises):\n",
    "        paises = [a.text for a in tags_paises]\n",
    "        return paises\n",
    "    else:\n",
    "        return None"
   ]
  },
  {
   "cell_type": "markdown",
   "metadata": {},
   "source": [
    "### Idioma"
   ]
  },
  {
   "cell_type": "code",
   "execution_count": 27,
   "metadata": {
    "collapsed": true
   },
   "outputs": [],
   "source": [
    "'''\n",
    "<a href=\"/search/title?title_type=feature&amp;primary_language=es&amp;sort=moviemeter,\n",
    "asc&amp;ref_=tt_dt_dt\" itemprop=\"url\">Spanish</a>\n",
    "'''\n",
    "\n",
    "tags_idioma = soup.select(\"a[href*=primary_language]\")"
   ]
  },
  {
   "cell_type": "code",
   "execution_count": 28,
   "metadata": {
    "collapsed": false
   },
   "outputs": [
    {
     "data": {
      "text/plain": [
       "[<a href=\"/search/title?title_type=feature&amp;primary_language=es&amp;sort=moviemeter,asc&amp;ref_=tt_dt_dt\" itemprop=\"url\">Spanish</a>]"
      ]
     },
     "execution_count": 28,
     "metadata": {},
     "output_type": "execute_result"
    }
   ],
   "source": [
    "tags_idioma"
   ]
  },
  {
   "cell_type": "code",
   "execution_count": 29,
   "metadata": {
    "collapsed": false
   },
   "outputs": [
    {
     "data": {
      "text/plain": [
       "u'Spanish'"
      ]
     },
     "execution_count": 29,
     "metadata": {},
     "output_type": "execute_result"
    }
   ],
   "source": [
    "tags_idioma[0].text"
   ]
  },
  {
   "cell_type": "code",
   "execution_count": 200,
   "metadata": {
    "collapsed": true
   },
   "outputs": [],
   "source": [
    "def get_idioma(soup):\n",
    "    tags_idioma = soup.select(\"a[href*=primary_language]\")\n",
    "    if len(tags_idioma):\n",
    "        return tags_idioma[0].text\n",
    "    else:\n",
    "        None"
   ]
  },
  {
   "cell_type": "code",
   "execution_count": 201,
   "metadata": {
    "collapsed": true
   },
   "outputs": [],
   "source": [
    "get_idioma(soup)"
   ]
  },
  {
   "cell_type": "markdown",
   "metadata": {},
   "source": [
    "### Tempo de duração em minutos"
   ]
  },
  {
   "cell_type": "code",
   "execution_count": 173,
   "metadata": {
    "collapsed": true
   },
   "outputs": [],
   "source": [
    "'''\n",
    "<time itemprop=\"duration\" datetime=\"PT99M\">99 min</time>\n",
    "'''\n",
    "\n",
    "tempo = soup.findAll('time', itemprop=\"duration\")"
   ]
  },
  {
   "cell_type": "code",
   "execution_count": 174,
   "metadata": {
    "collapsed": false
   },
   "outputs": [
    {
     "data": {
      "text/plain": [
       "[<time datetime=\"PT120M\" itemprop=\"duration\">\\n                        2h\\n                    </time>,\n",
       " <time datetime=\"PT120M\" itemprop=\"duration\">120 min</time>]"
      ]
     },
     "execution_count": 174,
     "metadata": {},
     "output_type": "execute_result"
    }
   ],
   "source": [
    "tempo"
   ]
  },
  {
   "cell_type": "code",
   "execution_count": 161,
   "metadata": {
    "collapsed": false
   },
   "outputs": [],
   "source": [
    "t = tempo[0].text"
   ]
  },
  {
   "cell_type": "code",
   "execution_count": 162,
   "metadata": {
    "collapsed": false
   },
   "outputs": [
    {
     "data": {
      "text/plain": [
       "u'\\n                        50min\\n                    '"
      ]
     },
     "execution_count": 162,
     "metadata": {},
     "output_type": "execute_result"
    }
   ],
   "source": [
    "t"
   ]
  },
  {
   "cell_type": "code",
   "execution_count": 163,
   "metadata": {
    "collapsed": false
   },
   "outputs": [
    {
     "data": {
      "text/plain": [
       "-1"
      ]
     },
     "execution_count": 163,
     "metadata": {},
     "output_type": "execute_result"
    }
   ],
   "source": [
    "t.find('h')"
   ]
  },
  {
   "cell_type": "code",
   "execution_count": 158,
   "metadata": {
    "collapsed": false
   },
   "outputs": [],
   "source": [
    "t = t.replace(' ', '')"
   ]
  },
  {
   "cell_type": "code",
   "execution_count": 159,
   "metadata": {
    "collapsed": false
   },
   "outputs": [
    {
     "data": {
      "text/plain": [
       "u'\\n50min\\n'"
      ]
     },
     "execution_count": 159,
     "metadata": {},
     "output_type": "execute_result"
    }
   ],
   "source": [
    "t"
   ]
  },
  {
   "cell_type": "code",
   "execution_count": 160,
   "metadata": {
    "collapsed": false
   },
   "outputs": [
    {
     "data": {
      "text/plain": [
       "u'50min'"
      ]
     },
     "execution_count": 160,
     "metadata": {},
     "output_type": "execute_result"
    }
   ],
   "source": [
    "t = t.replace('\\n', '')\n",
    "t"
   ]
  },
  {
   "cell_type": "code",
   "execution_count": 35,
   "metadata": {
    "collapsed": false
   },
   "outputs": [
    {
     "data": {
      "text/plain": [
       "u'99'"
      ]
     },
     "execution_count": 35,
     "metadata": {},
     "output_type": "execute_result"
    }
   ],
   "source": [
    "t2 = t[:t.find(' min')]\n",
    "t2"
   ]
  },
  {
   "cell_type": "code",
   "execution_count": 36,
   "metadata": {
    "collapsed": false
   },
   "outputs": [
    {
     "data": {
      "text/plain": [
       "99"
      ]
     },
     "execution_count": 36,
     "metadata": {},
     "output_type": "execute_result"
    }
   ],
   "source": [
    "int(t2)"
   ]
  },
  {
   "cell_type": "code",
   "execution_count": 148,
   "metadata": {
    "collapsed": true
   },
   "outputs": [],
   "source": [
    "duracao = '\\n  1h 30min \\n'"
   ]
  },
  {
   "cell_type": "code",
   "execution_count": 175,
   "metadata": {
    "collapsed": true
   },
   "outputs": [],
   "source": [
    "def transformar_horas_em_minutos(text):\n",
    "    if text.find('h') != -1 and text.find('min') != -1:\n",
    "        tempo = text.replace(' ', '')\n",
    "        tempo = tempo.replace('\\n', '')\n",
    "        tempo = tempo.replace('min', '')\n",
    "        h = int(tempo[0])*60\n",
    "        m = int(tempo[2:])\n",
    "        return h + m\n",
    "    elif text.find('h') != -1 and text.find('min') == -1:\n",
    "        tempo = text.replace(' ', '')\n",
    "        tempo = tempo.replace('\\n', '')\n",
    "        tempo = tempo.replace('min', '')\n",
    "        return int(tempo[0])*60\n",
    "    else:\n",
    "        tempo = text.replace(' ', '')\n",
    "        tempo = tempo.replace('\\n', '')\n",
    "        tempo = tempo.replace('min', '')\n",
    "        return int(tempo)"
   ]
  },
  {
   "cell_type": "code",
   "execution_count": 176,
   "metadata": {
    "collapsed": false
   },
   "outputs": [
    {
     "data": {
      "text/plain": [
       "90"
      ]
     },
     "execution_count": 176,
     "metadata": {},
     "output_type": "execute_result"
    }
   ],
   "source": [
    "transformar_horas_em_minutos(duracao)"
   ]
  },
  {
   "cell_type": "code",
   "execution_count": 177,
   "metadata": {
    "collapsed": false
   },
   "outputs": [
    {
     "data": {
      "text/plain": [
       "50"
      ]
     },
     "execution_count": 177,
     "metadata": {},
     "output_type": "execute_result"
    }
   ],
   "source": [
    "transformar_horas_em_minutos('\\n  50min  \\n')"
   ]
  },
  {
   "cell_type": "code",
   "execution_count": 178,
   "metadata": {
    "collapsed": true
   },
   "outputs": [],
   "source": [
    "def get_duracao(soup):\n",
    "    tempo = soup.findAll('time', itemprop=\"duration\")\n",
    "    if len(tempo):\n",
    "        return transformar_horas_em_minutos(tempo[0].text)   \n",
    "    else:\n",
    "        return None"
   ]
  },
  {
   "cell_type": "code",
   "execution_count": 179,
   "metadata": {
    "collapsed": false
   },
   "outputs": [
    {
     "data": {
      "text/plain": [
       "120"
      ]
     },
     "execution_count": 179,
     "metadata": {},
     "output_type": "execute_result"
    }
   ],
   "source": [
    "get_duracao(soup)"
   ]
  },
  {
   "cell_type": "markdown",
   "metadata": {},
   "source": [
    "### Atores Principais"
   ]
  },
  {
   "cell_type": "code",
   "execution_count": 38,
   "metadata": {
    "collapsed": true
   },
   "outputs": [],
   "source": [
    "'''\n",
    "<span itemprop=\"actors\" itemscope=\"\" itemtype=\"http://schema.org/Person\">\n",
    "<a href=\"/name/nm1443757?ref_=tt_ov_st_sm\" itemprop=\"url\"><span class=\"itemprop\" itemprop=\"name\">Manuela Martelli</span></a>,             </span>\n",
    "'''\n",
    "atores = soup.findAll('span', itemprop=\"actors\")"
   ]
  },
  {
   "cell_type": "code",
   "execution_count": 39,
   "metadata": {
    "collapsed": false
   },
   "outputs": [
    {
     "data": {
      "text/plain": [
       "[<span itemprop=\"actors\" itemscope=\"\" itemtype=\"http://schema.org/Person\">\\n<a href=\"/name/nm1443757?ref_=tt_ov_st_sm\" itemprop=\"url\"><span class=\"itemprop\" itemprop=\"name\">Manuela Martelli</span></a>,             </span>,\n",
       " <span itemprop=\"actors\" itemscope=\"\" itemtype=\"http://schema.org/Person\">\\n<a href=\"/name/nm2926981?ref_=tt_ov_st_sm\" itemprop=\"url\"><span class=\"itemprop\" itemprop=\"name\">Diego Ruiz</span></a>,             </span>,\n",
       " <span itemprop=\"actors\" itemscope=\"\" itemtype=\"http://schema.org/Person\">\\n<a href=\"/name/nm3396723?ref_=tt_ov_st_sm\" itemprop=\"url\"><span class=\"itemprop\" itemprop=\"name\">Alicia Rodr\\xedguez</span></a> </span>]"
      ]
     },
     "execution_count": 39,
     "metadata": {},
     "output_type": "execute_result"
    }
   ],
   "source": [
    "atores"
   ]
  },
  {
   "cell_type": "code",
   "execution_count": 40,
   "metadata": {
    "collapsed": false
   },
   "outputs": [
    {
     "name": "stdout",
     "output_type": "stream",
     "text": [
      "Manuela Martelli\n",
      "Diego Ruiz\n",
      "Alicia Rodríguez\n"
     ]
    }
   ],
   "source": [
    "for div in atores:\n",
    "    print div.a.text"
   ]
  },
  {
   "cell_type": "code",
   "execution_count": 41,
   "metadata": {
    "collapsed": true
   },
   "outputs": [],
   "source": [
    "def gets_atores(soup):\n",
    "    divs_atores = soup.findAll('span', itemprop=\"actors\")\n",
    "    atores = [div.a.text for div in divs_atores]\n",
    "    return atores"
   ]
  },
  {
   "cell_type": "markdown",
   "metadata": {},
   "source": [
    "### Score"
   ]
  },
  {
   "cell_type": "code",
   "execution_count": 42,
   "metadata": {
    "collapsed": true
   },
   "outputs": [],
   "source": [
    "'''\n",
    "<span itemprop=\"ratingValue\">6,2</span>\n",
    "'''\n",
    "\n",
    "score = soup.find('span', itemprop=\"ratingValue\")"
   ]
  },
  {
   "cell_type": "code",
   "execution_count": 43,
   "metadata": {
    "collapsed": false
   },
   "outputs": [
    {
     "data": {
      "text/plain": [
       "6.2"
      ]
     },
     "execution_count": 43,
     "metadata": {},
     "output_type": "execute_result"
    }
   ],
   "source": [
    "float(score.text)"
   ]
  },
  {
   "cell_type": "code",
   "execution_count": 181,
   "metadata": {
    "collapsed": true
   },
   "outputs": [],
   "source": [
    "def get_score(soup):\n",
    "    score = soup.find('span', itemprop=\"ratingValue\")\n",
    "    if score != None:\n",
    "        return float(score.text)\n",
    "    else:\n",
    "        return None"
   ]
  },
  {
   "cell_type": "markdown",
   "metadata": {},
   "source": [
    "### Ano"
   ]
  },
  {
   "cell_type": "code",
   "execution_count": 45,
   "metadata": {
    "collapsed": true
   },
   "outputs": [],
   "source": [
    "# <a href=\"/year/2009/?ref_=tt_ov_inf\">2009</a>\n",
    "\n",
    "ano = soup.select(\"a[href*=/year/]\")"
   ]
  },
  {
   "cell_type": "code",
   "execution_count": 46,
   "metadata": {
    "collapsed": false
   },
   "outputs": [
    {
     "data": {
      "text/plain": [
       "[<a href=\"/year/2009/?ref_=tt_ov_inf\">2009</a>]"
      ]
     },
     "execution_count": 46,
     "metadata": {},
     "output_type": "execute_result"
    }
   ],
   "source": [
    "ano"
   ]
  },
  {
   "cell_type": "code",
   "execution_count": 47,
   "metadata": {
    "collapsed": false
   },
   "outputs": [
    {
     "data": {
      "text/plain": [
       "u'2009'"
      ]
     },
     "execution_count": 47,
     "metadata": {},
     "output_type": "execute_result"
    }
   ],
   "source": [
    "ano[0].text"
   ]
  },
  {
   "cell_type": "code",
   "execution_count": 48,
   "metadata": {
    "collapsed": true
   },
   "outputs": [],
   "source": [
    "def get_ano(soup):\n",
    "    ano = soup.select(\"a[href*=/year/]\")\n",
    "    return int(ano[0].text)"
   ]
  },
  {
   "cell_type": "markdown",
   "metadata": {},
   "source": [
    "### Popularidade"
   ]
  },
  {
   "cell_type": "code",
   "execution_count": 51,
   "metadata": {
    "collapsed": true
   },
   "outputs": [],
   "source": [
    "'''\n",
    "<span class=\"popularityUpOrFlat\">362</span>\n",
    "'''\n",
    "\n",
    "popularidade = soup.find('span', attrs={'class': 'popularityUpOrFlat'})"
   ]
  },
  {
   "cell_type": "code",
   "execution_count": 53,
   "metadata": {
    "collapsed": false
   },
   "outputs": [
    {
     "data": {
      "text/plain": [
       "u'362'"
      ]
     },
     "execution_count": 53,
     "metadata": {},
     "output_type": "execute_result"
    }
   ],
   "source": [
    "popularidade.text"
   ]
  },
  {
   "cell_type": "code",
   "execution_count": 94,
   "metadata": {
    "collapsed": false
   },
   "outputs": [
    {
     "data": {
      "text/plain": [
       "362"
      ]
     },
     "execution_count": 94,
     "metadata": {},
     "output_type": "execute_result"
    }
   ],
   "source": [
    "int(popularidade.text)"
   ]
  },
  {
   "cell_type": "code",
   "execution_count": 95,
   "metadata": {
    "collapsed": false
   },
   "outputs": [
    {
     "ename": "ValueError",
     "evalue": "invalid literal for int() with base 10: '1,151'",
     "output_type": "error",
     "traceback": [
      "\u001b[0;31m---------------------------------------------------------------------------\u001b[0m",
      "\u001b[0;31mValueError\u001b[0m                                Traceback (most recent call last)",
      "\u001b[0;32m<ipython-input-95-ca0b175627bd>\u001b[0m in \u001b[0;36m<module>\u001b[0;34m()\u001b[0m\n\u001b[0;32m----> 1\u001b[0;31m \u001b[0mint\u001b[0m\u001b[0;34m(\u001b[0m\u001b[0;34m'1,151'\u001b[0m\u001b[0;34m)\u001b[0m\u001b[0;34m\u001b[0m\u001b[0m\n\u001b[0m",
      "\u001b[0;31mValueError\u001b[0m: invalid literal for int() with base 10: '1,151'"
     ]
    }
   ],
   "source": [
    "int('1,151')"
   ]
  },
  {
   "cell_type": "code",
   "execution_count": 102,
   "metadata": {
    "collapsed": true
   },
   "outputs": [],
   "source": [
    "def tirar_virgula(text):\n",
    "    if text.find(',') != -1:\n",
    "        text = list(text)\n",
    "        text.remove(',')\n",
    "        return ''.join(text)\n",
    "    else:\n",
    "        return text"
   ]
  },
  {
   "cell_type": "code",
   "execution_count": 105,
   "metadata": {
    "collapsed": false
   },
   "outputs": [
    {
     "data": {
      "text/plain": [
       "'362'"
      ]
     },
     "execution_count": 105,
     "metadata": {},
     "output_type": "execute_result"
    }
   ],
   "source": [
    "tirar_virgula('362')"
   ]
  },
  {
   "cell_type": "code",
   "execution_count": 106,
   "metadata": {
    "collapsed": false
   },
   "outputs": [
    {
     "data": {
      "text/plain": [
       "'1151'"
      ]
     },
     "execution_count": 106,
     "metadata": {},
     "output_type": "execute_result"
    }
   ],
   "source": [
    "tirar_virgula('1,151')"
   ]
  },
  {
   "cell_type": "code",
   "execution_count": 107,
   "metadata": {
    "collapsed": true
   },
   "outputs": [],
   "source": [
    "def get_popularidade(soup):\n",
    "    popularidade = soup.find('span', attrs={'class': 'popularityUpOrFlat'})\n",
    "    if popularidade != None:\n",
    "        return int(tirar_virgula(popularidade.text))\n",
    "    else:\n",
    "        return None"
   ]
  },
  {
   "cell_type": "markdown",
   "metadata": {},
   "source": [
    "### Quantidade de reviews de usuários iMDb"
   ]
  },
  {
   "cell_type": "code",
   "execution_count": 183,
   "metadata": {
    "collapsed": true
   },
   "outputs": [],
   "source": [
    "'''\n",
    "<a href=\"reviews?ref_=tt_ov_rt\">55 user</a>\n",
    "'''\n",
    "\n",
    "reviews = soup.select(\"a[href*=reviews?ref_=tt_ov_rt]\")"
   ]
  },
  {
   "cell_type": "code",
   "execution_count": 184,
   "metadata": {
    "collapsed": false
   },
   "outputs": [
    {
     "data": {
      "text/plain": [
       "[<a href=\"externalreviews?ref_=tt_ov_rt\">2 critic</a>]"
      ]
     },
     "execution_count": 184,
     "metadata": {},
     "output_type": "execute_result"
    }
   ],
   "source": [
    "reviews"
   ]
  },
  {
   "cell_type": "code",
   "execution_count": 190,
   "metadata": {
    "collapsed": true
   },
   "outputs": [],
   "source": [
    "r = reviews[0].text"
   ]
  },
  {
   "cell_type": "code",
   "execution_count": 192,
   "metadata": {
    "collapsed": false
   },
   "outputs": [
    {
     "data": {
      "text/plain": [
       "-1"
      ]
     },
     "execution_count": 192,
     "metadata": {},
     "output_type": "execute_result"
    }
   ],
   "source": [
    "r.find('user')"
   ]
  },
  {
   "cell_type": "code",
   "execution_count": 63,
   "metadata": {
    "collapsed": false
   },
   "outputs": [
    {
     "data": {
      "text/plain": [
       "u'55 user'"
      ]
     },
     "execution_count": 63,
     "metadata": {},
     "output_type": "execute_result"
    }
   ],
   "source": [
    "qtd_r = r.text\n",
    "qtd_r"
   ]
  },
  {
   "cell_type": "code",
   "execution_count": 64,
   "metadata": {
    "collapsed": false
   },
   "outputs": [
    {
     "data": {
      "text/plain": [
       "55"
      ]
     },
     "execution_count": 64,
     "metadata": {},
     "output_type": "execute_result"
    }
   ],
   "source": [
    "qtd_r = int(qtd_r[:qtd_r.find(' user')])\n",
    "qtd_r"
   ]
  },
  {
   "cell_type": "code",
   "execution_count": 197,
   "metadata": {
    "collapsed": true
   },
   "outputs": [],
   "source": [
    "def get_qtdReviews(soup):\n",
    "    reviews = soup.select(\"a[href*=reviews?ref_=tt_ov_rt]\")\n",
    "    if len(reviews):\n",
    "        if reviews[0].text.find('user') != -1:\n",
    "            r = reviews[0]\n",
    "            qtd_r = r.text\n",
    "            return int(qtd_r[:qtd_r.find(' user')])\n",
    "        else:\n",
    "            return None\n",
    "    \n",
    "    else:\n",
    "        return None"
   ]
  },
  {
   "cell_type": "code",
   "execution_count": 198,
   "metadata": {
    "collapsed": false
   },
   "outputs": [],
   "source": [
    "get_qtdReviews(soup)"
   ]
  },
  {
   "cell_type": "markdown",
   "metadata": {},
   "source": [
    "# Obtendo os Dados para Todos os Filmes"
   ]
  },
  {
   "cell_type": "markdown",
   "metadata": {
    "collapsed": true
   },
   "source": [
    "Cada filme será um dicionário do tipo:"
   ]
  },
  {
   "cell_type": "code",
   "execution_count": 68,
   "metadata": {
    "collapsed": false
   },
   "outputs": [],
   "source": [
    "filme = {'titulo': 'string','link': 'string', 'sinopse': 'string', 'diretor': 'string','genero': 'lista de string',\n",
    "         'pais': 'lista de string', 'Idioma': 'lista de string','duracao': 'int', 'atores': 'lista de string',\n",
    "         'score': 'float', 'ano': 'int','popularidade': 'int','qtd_reviews':'int'}"
   ]
  },
  {
   "cell_type": "markdown",
   "metadata": {},
   "source": [
    "Teremos então uma lista de dicionários filmes."
   ]
  },
  {
   "cell_type": "code",
   "execution_count": 70,
   "metadata": {
    "collapsed": false
   },
   "outputs": [
    {
     "data": {
      "text/plain": [
       "200"
      ]
     },
     "execution_count": 70,
     "metadata": {},
     "output_type": "execute_result"
    }
   ],
   "source": [
    "len(titulos_filmes)"
   ]
  },
  {
   "cell_type": "code",
   "execution_count": 202,
   "metadata": {
    "collapsed": false
   },
   "outputs": [],
   "source": [
    "lista_filmes = []\n",
    "for titulo, link in zip(titulos_filmes, links_filmes):\n",
    "    dic = {}\n",
    "    dic['titulo'] = titulo\n",
    "    dic['link'] = link\n",
    "    \n",
    "    con = requests.get(link)\n",
    "    soup = BeautifulSoup(con.content, \"html.parser\")\n",
    "    con.close()\n",
    "    \n",
    "    dic['sinopse'] = get_sinopse(soup)\n",
    "    dic['diretor'] = get_diretor(soup)\n",
    "    dic['genero'] = get_generos(soup)\n",
    "    dic['pais'] = get_paises(soup)\n",
    "    dic['idioma'] = get_idioma(soup)\n",
    "    dic['duracao'] = get_duracao(soup)\n",
    "    dic['atores'] = gets_atores(soup)\n",
    "    dic['score'] = get_score(soup)\n",
    "    dic['ano'] = get_ano(soup)\n",
    "    dic['popularidade'] = get_popularidade(soup)\n",
    "    dic['qtd_reviews'] = get_qtdReviews(soup)\n",
    "    \n",
    "    lista_filmes.append(dic)"
   ]
  },
  {
   "cell_type": "markdown",
   "metadata": {},
   "source": [
    "# Análises dos Dados"
   ]
  },
  {
   "cell_type": "markdown",
   "metadata": {},
   "source": [
    "### Nuvem de Palavras das sinópses"
   ]
  },
  {
   "cell_type": "code",
   "execution_count": 217,
   "metadata": {
    "collapsed": true
   },
   "outputs": [],
   "source": [
    "todas_sinopses = ''\n",
    "for dic in lista_filmes:\n",
    "    todas_sinopses += dic['sinopse']"
   ]
  },
  {
   "cell_type": "code",
   "execution_count": 218,
   "metadata": {
    "collapsed": false
   },
   "outputs": [],
   "source": [
    "f = open('sinopses.txt', 'w')\n",
    "f.write(todas_sinopses.encode('utf-8'))\n",
    "f.close()"
   ]
  },
  {
   "cell_type": "markdown",
   "metadata": {},
   "source": [
    "<img src='wordcload_sinopses.png'>"
   ]
  },
  {
   "cell_type": "markdown",
   "metadata": {},
   "source": [
    "### Quantidade de Filmes de Natal produzidos por ano"
   ]
  },
  {
   "cell_type": "code",
   "execution_count": 219,
   "metadata": {
    "collapsed": true
   },
   "outputs": [],
   "source": [
    "anos  = [dic['ano'] for dic in lista_filmes]"
   ]
  },
  {
   "cell_type": "code",
   "execution_count": 221,
   "metadata": {
    "collapsed": false
   },
   "outputs": [],
   "source": [
    "anos =set(anos)"
   ]
  },
  {
   "cell_type": "code",
   "execution_count": 222,
   "metadata": {
    "collapsed": false
   },
   "outputs": [
    {
     "data": {
      "text/plain": [
       "{1938,\n",
       " 1945,\n",
       " 1947,\n",
       " 1951,\n",
       " 1954,\n",
       " 1965,\n",
       " 1966,\n",
       " 1974,\n",
       " 1980,\n",
       " 1983,\n",
       " 1984,\n",
       " 1985,\n",
       " 1986,\n",
       " 1989,\n",
       " 1991,\n",
       " 1992,\n",
       " 1993,\n",
       " 1994,\n",
       " 1995,\n",
       " 1997,\n",
       " 1998,\n",
       " 1999,\n",
       " 2000,\n",
       " 2001,\n",
       " 2002,\n",
       " 2003,\n",
       " 2004,\n",
       " 2005,\n",
       " 2006,\n",
       " 2007,\n",
       " 2008,\n",
       " 2009,\n",
       " 2010,\n",
       " 2011,\n",
       " 2012,\n",
       " 2013,\n",
       " 2014,\n",
       " 2015,\n",
       " 2016,\n",
       " 2017,\n",
       " 2018}"
      ]
     },
     "execution_count": 222,
     "metadata": {},
     "output_type": "execute_result"
    }
   ],
   "source": [
    "anos"
   ]
  },
  {
   "cell_type": "code",
   "execution_count": 303,
   "metadata": {
    "collapsed": true
   },
   "outputs": [],
   "source": [
    "\n",
    "dic = {'1938 - 1979': 0, '1980 - 1984':0, '1985 - 1989':0, '1990 - 1994':0, '1995 - 1999':0,\n",
    "      '2000 - 2004':0, '2005 - 2009':0, '2010 - 2017':0}"
   ]
  },
  {
   "cell_type": "code",
   "execution_count": 304,
   "metadata": {
    "collapsed": false
   },
   "outputs": [
    {
     "data": {
      "text/plain": [
       "['1980', '-', '1984']"
      ]
     },
     "execution_count": 304,
     "metadata": {},
     "output_type": "execute_result"
    }
   ],
   "source": [
    "l = '1980 - 1984'.split()\n",
    "l"
   ]
  },
  {
   "cell_type": "code",
   "execution_count": 305,
   "metadata": {
    "collapsed": true
   },
   "outputs": [],
   "source": [
    "l.remove('-')"
   ]
  },
  {
   "cell_type": "code",
   "execution_count": 306,
   "metadata": {
    "collapsed": false
   },
   "outputs": [
    {
     "data": {
      "text/plain": [
       "['1980', '1984']"
      ]
     },
     "execution_count": 306,
     "metadata": {},
     "output_type": "execute_result"
    }
   ],
   "source": [
    "l"
   ]
  },
  {
   "cell_type": "code",
   "execution_count": 307,
   "metadata": {
    "collapsed": false
   },
   "outputs": [],
   "source": [
    "for chave in dic:\n",
    "    for filme in lista_filmes:\n",
    "        anos = chave.split()\n",
    "        anos.remove('-')\n",
    "        if filme['ano'] >= int(anos[0]) and filme['ano'] <= int(anos[1]):\n",
    "            dic[chave] += 1"
   ]
  },
  {
   "cell_type": "code",
   "execution_count": 308,
   "metadata": {
    "collapsed": false
   },
   "outputs": [
    {
     "data": {
      "text/plain": [
       "{'1938 - 1979': 9,\n",
       " '1980 - 1984': 3,\n",
       " '1985 - 1989': 5,\n",
       " '1990 - 1994': 4,\n",
       " '1995 - 1999': 5,\n",
       " '2000 - 2004': 9,\n",
       " '2005 - 2009': 17,\n",
       " '2010 - 2017': 147}"
      ]
     },
     "execution_count": 308,
     "metadata": {},
     "output_type": "execute_result"
    }
   ],
   "source": [
    "dic"
   ]
  },
  {
   "cell_type": "code",
   "execution_count": 278,
   "metadata": {
    "collapsed": true
   },
   "outputs": [],
   "source": [
    "import seaborn as sns\n",
    "import matplotlib.pyplot as plt\n",
    "\n",
    "%matplotlib inline"
   ]
  },
  {
   "cell_type": "code",
   "execution_count": 309,
   "metadata": {
    "collapsed": true
   },
   "outputs": [],
   "source": [
    "df = pd.DataFrame()\n",
    "df['intervalos_anos'] = dic.keys()\n",
    "df['freq'] = dic.values()"
   ]
  },
  {
   "cell_type": "code",
   "execution_count": 310,
   "metadata": {
    "collapsed": false
   },
   "outputs": [
    {
     "data": {
      "text/html": [
       "<div>\n",
       "<table border=\"1\" class=\"dataframe\">\n",
       "  <thead>\n",
       "    <tr style=\"text-align: right;\">\n",
       "      <th></th>\n",
       "      <th>intervalos_anos</th>\n",
       "      <th>freq</th>\n",
       "    </tr>\n",
       "  </thead>\n",
       "  <tbody>\n",
       "    <tr>\n",
       "      <th>0</th>\n",
       "      <td>1995 - 1999</td>\n",
       "      <td>5</td>\n",
       "    </tr>\n",
       "    <tr>\n",
       "      <th>1</th>\n",
       "      <td>2010 - 2017</td>\n",
       "      <td>147</td>\n",
       "    </tr>\n",
       "    <tr>\n",
       "      <th>2</th>\n",
       "      <td>1980 - 1984</td>\n",
       "      <td>3</td>\n",
       "    </tr>\n",
       "    <tr>\n",
       "      <th>3</th>\n",
       "      <td>2000 - 2004</td>\n",
       "      <td>9</td>\n",
       "    </tr>\n",
       "    <tr>\n",
       "      <th>4</th>\n",
       "      <td>1985 - 1989</td>\n",
       "      <td>5</td>\n",
       "    </tr>\n",
       "    <tr>\n",
       "      <th>5</th>\n",
       "      <td>1990 - 1994</td>\n",
       "      <td>4</td>\n",
       "    </tr>\n",
       "    <tr>\n",
       "      <th>6</th>\n",
       "      <td>2005 - 2009</td>\n",
       "      <td>17</td>\n",
       "    </tr>\n",
       "    <tr>\n",
       "      <th>7</th>\n",
       "      <td>1938 - 1979</td>\n",
       "      <td>9</td>\n",
       "    </tr>\n",
       "  </tbody>\n",
       "</table>\n",
       "</div>"
      ],
      "text/plain": [
       "  intervalos_anos  freq\n",
       "0     1995 - 1999     5\n",
       "1     2010 - 2017   147\n",
       "2     1980 - 1984     3\n",
       "3     2000 - 2004     9\n",
       "4     1985 - 1989     5\n",
       "5     1990 - 1994     4\n",
       "6     2005 - 2009    17\n",
       "7     1938 - 1979     9"
      ]
     },
     "execution_count": 310,
     "metadata": {},
     "output_type": "execute_result"
    }
   ],
   "source": [
    "df"
   ]
  },
  {
   "cell_type": "code",
   "execution_count": 311,
   "metadata": {
    "collapsed": true
   },
   "outputs": [],
   "source": [
    "intervalos_anos = ['1938 - 1979', '1980 - 1984', '1985 - 1989', '1990 - 1994', '1995 - 1999',\n",
    "                  '2000 - 2004', '2005 - 2009', '2010 - 2017']"
   ]
  },
  {
   "cell_type": "code",
   "execution_count": 312,
   "metadata": {
    "collapsed": false
   },
   "outputs": [],
   "source": [
    "freq = [dic[chave] for chave in intervalos_anos]"
   ]
  },
  {
   "cell_type": "code",
   "execution_count": 313,
   "metadata": {
    "collapsed": false
   },
   "outputs": [
    {
     "data": {
      "text/html": [
       "<div>\n",
       "<table border=\"1\" class=\"dataframe\">\n",
       "  <thead>\n",
       "    <tr style=\"text-align: right;\">\n",
       "      <th></th>\n",
       "      <th>intervalos_anos</th>\n",
       "      <th>freq</th>\n",
       "    </tr>\n",
       "  </thead>\n",
       "  <tbody>\n",
       "    <tr>\n",
       "      <th>0</th>\n",
       "      <td>1938 - 1979</td>\n",
       "      <td>9</td>\n",
       "    </tr>\n",
       "    <tr>\n",
       "      <th>1</th>\n",
       "      <td>1980 - 1984</td>\n",
       "      <td>3</td>\n",
       "    </tr>\n",
       "    <tr>\n",
       "      <th>2</th>\n",
       "      <td>1985 - 1989</td>\n",
       "      <td>5</td>\n",
       "    </tr>\n",
       "    <tr>\n",
       "      <th>3</th>\n",
       "      <td>1990 - 1994</td>\n",
       "      <td>4</td>\n",
       "    </tr>\n",
       "    <tr>\n",
       "      <th>4</th>\n",
       "      <td>1995 - 1999</td>\n",
       "      <td>5</td>\n",
       "    </tr>\n",
       "    <tr>\n",
       "      <th>5</th>\n",
       "      <td>2000 - 2004</td>\n",
       "      <td>9</td>\n",
       "    </tr>\n",
       "    <tr>\n",
       "      <th>6</th>\n",
       "      <td>2005 - 2009</td>\n",
       "      <td>17</td>\n",
       "    </tr>\n",
       "    <tr>\n",
       "      <th>7</th>\n",
       "      <td>2010 - 2017</td>\n",
       "      <td>147</td>\n",
       "    </tr>\n",
       "  </tbody>\n",
       "</table>\n",
       "</div>"
      ],
      "text/plain": [
       "  intervalos_anos  freq\n",
       "0     1938 - 1979     9\n",
       "1     1980 - 1984     3\n",
       "2     1985 - 1989     5\n",
       "3     1990 - 1994     4\n",
       "4     1995 - 1999     5\n",
       "5     2000 - 2004     9\n",
       "6     2005 - 2009    17\n",
       "7     2010 - 2017   147"
      ]
     },
     "execution_count": 313,
     "metadata": {},
     "output_type": "execute_result"
    }
   ],
   "source": [
    "df = pd.DataFrame()\n",
    "df['intervalos_anos'] = intervalos_anos\n",
    "df['freq'] = freq\n",
    "\n",
    "df"
   ]
  },
  {
   "cell_type": "code",
   "execution_count": 314,
   "metadata": {
    "collapsed": false
   },
   "outputs": [
    {
     "data": {
      "image/png": "[encoded data removed]",
      "text/plain": [
       "<matplotlib.figure.Figure at 0x7fee8fff79d0>"
      ]
     },
     "metadata": {},
     "output_type": "display_data"
    }
   ],
   "source": [
    "sns.factorplot('intervalos_anos', 'freq', data=df, kind=\"bar\",palette=\"Blues\",size=6,aspect=2,legend_out=False);"
   ]
  },
  {
   "cell_type": "markdown",
   "metadata": {},
   "source": [
    "### Principais países e idiomas"
   ]
  },
  {
   "cell_type": "code",
   "execution_count": 286,
   "metadata": {
    "collapsed": false
   },
   "outputs": [],
   "source": [
    "paises = [filme['pais'] for filme in lista_filmes]"
   ]
  },
  {
   "cell_type": "code",
   "execution_count": 287,
   "metadata": {
    "collapsed": false
   },
   "outputs": [
    {
     "data": {
      "text/plain": [
       "[[u'USA', u'France'],\n",
       " [u'Chile', u'France'],\n",
       " [u'USA'],\n",
       " [u'USA'],\n",
       " [u'USA'],\n",
       " [u'USA', u'Canada'],\n",
       " [u'USA'],\n",
       " [u'USA'],\n",
       " [u'USA', u'China'],\n",
       " [u'USA'],\n",
       " [u'USA'],\n",
       " [u'USA'],\n",
       " [u'Germany', u'USA'],\n",
       " [u'USA'],\n",
       " [u'USA'],\n",
       " [u'Ireland', u'Canada'],\n",
       " [u'USA', u'Germany'],\n",
       " [u'USA'],\n",
       " [u'UK', u'USA'],\n",
       " [u'USA'],\n",
       " [u'USA'],\n",
       " [u'USA'],\n",
       " None,\n",
       " [u'USA'],\n",
       " [u'USA'],\n",
       " [u'Canada', u'USA'],\n",
       " [u'USA'],\n",
       " [u'Canada'],\n",
       " [u'USA'],\n",
       " [u'USA'],\n",
       " [u'USA'],\n",
       " None,\n",
       " [u'USA'],\n",
       " [u'USA'],\n",
       " [u'Australia'],\n",
       " [u'USA'],\n",
       " [u'Canada', u'USA'],\n",
       " [u'USA', u'Canada'],\n",
       " [u'USA'],\n",
       " [u'UK'],\n",
       " [u'UK', u'USA'],\n",
       " [u'USA'],\n",
       " [u'USA'],\n",
       " [u'USA', u'UK'],\n",
       " [u'USA'],\n",
       " [u'USA', u'Canada'],\n",
       " [u'USA'],\n",
       " [u'USA'],\n",
       " [u'USA'],\n",
       " [u'USA'],\n",
       " [u'USA'],\n",
       " [u'Canada'],\n",
       " [u'UK', u'USA'],\n",
       " [u'USA'],\n",
       " [u'USA'],\n",
       " [u'USA'],\n",
       " [u'USA'],\n",
       " [u'USA'],\n",
       " [u'Canada', u'USA'],\n",
       " [u'USA'],\n",
       " [u'USA'],\n",
       " [u'USA'],\n",
       " [u'Canada'],\n",
       " [u'USA'],\n",
       " [u'Canada', u'USA'],\n",
       " [u'USA'],\n",
       " [u'USA', u'Canada'],\n",
       " [u'Canada'],\n",
       " [u'Canada'],\n",
       " [u'Canada', u'USA'],\n",
       " [u'USA'],\n",
       " [u'Canada'],\n",
       " [u'USA'],\n",
       " [u'USA'],\n",
       " [u'USA'],\n",
       " [u'Canada', u'USA'],\n",
       " [u'USA'],\n",
       " [u'USA'],\n",
       " [u'USA', u'Canada'],\n",
       " [u'USA', u'Canada'],\n",
       " [u'USA'],\n",
       " [u'USA'],\n",
       " [u'Canada', u'USA'],\n",
       " [u'USA'],\n",
       " [u'USA'],\n",
       " [u'Canada'],\n",
       " [u'Canada'],\n",
       " [u'Canada'],\n",
       " [u'USA'],\n",
       " [u'USA'],\n",
       " [u'USA'],\n",
       " [u'USA'],\n",
       " [u'Canada'],\n",
       " [u'USA'],\n",
       " [u'Canada', u'USA'],\n",
       " [u'USA'],\n",
       " [u'USA'],\n",
       " None,\n",
       " [u'USA'],\n",
       " [u'USA', u'Canada'],\n",
       " [u'USA'],\n",
       " [u'USA'],\n",
       " [u'Canada', u'USA'],\n",
       " [u'USA'],\n",
       " [u'USA'],\n",
       " [u'USA'],\n",
       " [u'USA'],\n",
       " [u'USA'],\n",
       " [u'Canada'],\n",
       " [u'Canada'],\n",
       " [u'Canada'],\n",
       " [u'UK'],\n",
       " [u'Canada'],\n",
       " [u'Canada'],\n",
       " [u'UK'],\n",
       " [u'USA'],\n",
       " [u'USA'],\n",
       " [u'Canada'],\n",
       " [u'USA'],\n",
       " [u'USA'],\n",
       " [u'USA'],\n",
       " [u'Canada'],\n",
       " [u'Canada', u'USA'],\n",
       " None,\n",
       " [u'USA'],\n",
       " [u'USA'],\n",
       " [u'USA'],\n",
       " [u'USA'],\n",
       " [u'Canada'],\n",
       " [u'USA'],\n",
       " [u'USA'],\n",
       " [u'USA'],\n",
       " [u'Canada'],\n",
       " [u'USA'],\n",
       " [u'USA'],\n",
       " [u'Canada'],\n",
       " [u'USA'],\n",
       " [u'USA'],\n",
       " [u'Canada', u'USA'],\n",
       " [u'USA'],\n",
       " [u'Canada'],\n",
       " [u'USA'],\n",
       " [u'Canada'],\n",
       " [u'USA'],\n",
       " [u'USA'],\n",
       " [u'USA'],\n",
       " [u'USA'],\n",
       " [u'USA'],\n",
       " [u'USA', u'Canada'],\n",
       " [u'USA'],\n",
       " [u'USA'],\n",
       " [u'USA'],\n",
       " [u'France'],\n",
       " [u'Canada', u'USA'],\n",
       " [u'Canada'],\n",
       " [u'USA', u'Canada'],\n",
       " [u'USA'],\n",
       " [u'USA'],\n",
       " [u'Canada', u'USA'],\n",
       " [u'USA', u'Canada'],\n",
       " [u'Canada'],\n",
       " [u'USA'],\n",
       " [u'USA'],\n",
       " [u'Canada'],\n",
       " [u'USA'],\n",
       " [u'USA'],\n",
       " [u'USA'],\n",
       " [u'New Zealand'],\n",
       " [u'USA'],\n",
       " [u'USA'],\n",
       " [u'USA', u'Canada'],\n",
       " [u'USA'],\n",
       " [u'USA', u'Canada'],\n",
       " [u'USA'],\n",
       " [u'USA'],\n",
       " [u'USA'],\n",
       " [u'UK', u'Australia'],\n",
       " [u'New Zealand'],\n",
       " [u'USA'],\n",
       " [u'USA'],\n",
       " [u'Canada'],\n",
       " [u'USA'],\n",
       " [u'USA'],\n",
       " [u'Finland'],\n",
       " [u'Canada'],\n",
       " [u'Canada'],\n",
       " [u'Canada', u'USA'],\n",
       " [u'USA'],\n",
       " [u'USA'],\n",
       " [u'Canada'],\n",
       " [u'USA'],\n",
       " [u'USA'],\n",
       " [u'Canada'],\n",
       " [u'USA'],\n",
       " [u'Canada', u'USA'],\n",
       " [u'Canada'],\n",
       " [u'USA'],\n",
       " [u'USA'],\n",
       " [u'USA', u'Canada'],\n",
       " [u'Germany', u'USA']]"
      ]
     },
     "execution_count": 287,
     "metadata": {},
     "output_type": "execute_result"
    }
   ],
   "source": [
    "paises"
   ]
  },
  {
   "cell_type": "code",
   "execution_count": 291,
   "metadata": {
    "collapsed": false
   },
   "outputs": [],
   "source": [
    "unique_data = [list(x) for x in set(tuple(filme['pais']) for filme in lista_filmes if filme['pais']!=None)]"
   ]
  },
  {
   "cell_type": "code",
   "execution_count": 292,
   "metadata": {
    "collapsed": false
   },
   "outputs": [
    {
     "data": {
      "text/plain": [
       "[[u'France'],\n",
       " [u'New Zealand'],\n",
       " [u'Canada'],\n",
       " [u'UK'],\n",
       " [u'USA', u'UK'],\n",
       " [u'USA', u'Germany'],\n",
       " [u'Australia'],\n",
       " [u'Canada', u'USA'],\n",
       " [u'Chile', u'France'],\n",
       " [u'USA', u'Canada'],\n",
       " [u'USA', u'China'],\n",
       " [u'Finland'],\n",
       " [u'Germany', u'USA'],\n",
       " [u'UK', u'USA'],\n",
       " [u'UK', u'Australia'],\n",
       " [u'USA', u'France'],\n",
       " [u'Ireland', u'Canada'],\n",
       " [u'USA']]"
      ]
     },
     "execution_count": 292,
     "metadata": {},
     "output_type": "execute_result"
    }
   ],
   "source": [
    "unique_data"
   ]
  },
  {
   "cell_type": "code",
   "execution_count": 297,
   "metadata": {
    "collapsed": false
   },
   "outputs": [],
   "source": [
    "dic = {}\n",
    "for item in unique_data:\n",
    "    pais = ' & '.join(item)\n",
    "    dic[pais] = 0\n",
    "    for filme in lista_filmes:\n",
    "        if filme['pais'] == item:\n",
    "            dic[pais] += 1"
   ]
  },
  {
   "cell_type": "code",
   "execution_count": 298,
   "metadata": {
    "collapsed": false
   },
   "outputs": [
    {
     "data": {
      "text/plain": [
       "{u'Australia': 1,\n",
       " u'Canada': 31,\n",
       " u'Canada & USA': 15,\n",
       " u'Chile & France': 1,\n",
       " u'Finland': 1,\n",
       " u'France': 1,\n",
       " u'Germany & USA': 2,\n",
       " u'Ireland & Canada': 1,\n",
       " u'New Zealand': 2,\n",
       " u'UK': 3,\n",
       " u'UK & Australia': 1,\n",
       " u'UK & USA': 3,\n",
       " u'USA': 117,\n",
       " u'USA & Canada': 13,\n",
       " u'USA & China': 1,\n",
       " u'USA & France': 1,\n",
       " u'USA & Germany': 1,\n",
       " u'USA & UK': 1}"
      ]
     },
     "execution_count": 298,
     "metadata": {},
     "output_type": "execute_result"
    }
   ],
   "source": [
    "dic"
   ]
  },
  {
   "cell_type": "code",
   "execution_count": 299,
   "metadata": {
    "collapsed": false
   },
   "outputs": [
    {
     "data": {
      "text/html": [
       "<div>\n",
       "<table border=\"1\" class=\"dataframe\">\n",
       "  <thead>\n",
       "    <tr style=\"text-align: right;\">\n",
       "      <th></th>\n",
       "      <th>paises</th>\n",
       "      <th>freq</th>\n",
       "    </tr>\n",
       "  </thead>\n",
       "  <tbody>\n",
       "    <tr>\n",
       "      <th>0</th>\n",
       "      <td>Canada</td>\n",
       "      <td>31</td>\n",
       "    </tr>\n",
       "    <tr>\n",
       "      <th>1</th>\n",
       "      <td>USA &amp; UK</td>\n",
       "      <td>1</td>\n",
       "    </tr>\n",
       "    <tr>\n",
       "      <th>2</th>\n",
       "      <td>Australia</td>\n",
       "      <td>1</td>\n",
       "    </tr>\n",
       "    <tr>\n",
       "      <th>3</th>\n",
       "      <td>USA</td>\n",
       "      <td>117</td>\n",
       "    </tr>\n",
       "    <tr>\n",
       "      <th>4</th>\n",
       "      <td>USA &amp; Germany</td>\n",
       "      <td>1</td>\n",
       "    </tr>\n",
       "    <tr>\n",
       "      <th>5</th>\n",
       "      <td>Finland</td>\n",
       "      <td>1</td>\n",
       "    </tr>\n",
       "    <tr>\n",
       "      <th>6</th>\n",
       "      <td>UK &amp; Australia</td>\n",
       "      <td>1</td>\n",
       "    </tr>\n",
       "    <tr>\n",
       "      <th>7</th>\n",
       "      <td>France</td>\n",
       "      <td>1</td>\n",
       "    </tr>\n",
       "    <tr>\n",
       "      <th>8</th>\n",
       "      <td>Chile &amp; France</td>\n",
       "      <td>1</td>\n",
       "    </tr>\n",
       "    <tr>\n",
       "      <th>9</th>\n",
       "      <td>Germany &amp; USA</td>\n",
       "      <td>2</td>\n",
       "    </tr>\n",
       "    <tr>\n",
       "      <th>10</th>\n",
       "      <td>UK</td>\n",
       "      <td>3</td>\n",
       "    </tr>\n",
       "    <tr>\n",
       "      <th>11</th>\n",
       "      <td>UK &amp; USA</td>\n",
       "      <td>3</td>\n",
       "    </tr>\n",
       "    <tr>\n",
       "      <th>12</th>\n",
       "      <td>Canada &amp; USA</td>\n",
       "      <td>15</td>\n",
       "    </tr>\n",
       "    <tr>\n",
       "      <th>13</th>\n",
       "      <td>New Zealand</td>\n",
       "      <td>2</td>\n",
       "    </tr>\n",
       "    <tr>\n",
       "      <th>14</th>\n",
       "      <td>USA &amp; Canada</td>\n",
       "      <td>13</td>\n",
       "    </tr>\n",
       "    <tr>\n",
       "      <th>15</th>\n",
       "      <td>USA &amp; France</td>\n",
       "      <td>1</td>\n",
       "    </tr>\n",
       "    <tr>\n",
       "      <th>16</th>\n",
       "      <td>USA &amp; China</td>\n",
       "      <td>1</td>\n",
       "    </tr>\n",
       "    <tr>\n",
       "      <th>17</th>\n",
       "      <td>Ireland &amp; Canada</td>\n",
       "      <td>1</td>\n",
       "    </tr>\n",
       "  </tbody>\n",
       "</table>\n",
       "</div>"
      ],
      "text/plain": [
       "              paises  freq\n",
       "0             Canada    31\n",
       "1           USA & UK     1\n",
       "2          Australia     1\n",
       "3                USA   117\n",
       "4      USA & Germany     1\n",
       "5            Finland     1\n",
       "6     UK & Australia     1\n",
       "7             France     1\n",
       "8     Chile & France     1\n",
       "9      Germany & USA     2\n",
       "10                UK     3\n",
       "11          UK & USA     3\n",
       "12      Canada & USA    15\n",
       "13       New Zealand     2\n",
       "14      USA & Canada    13\n",
       "15      USA & France     1\n",
       "16       USA & China     1\n",
       "17  Ireland & Canada     1"
      ]
     },
     "execution_count": 299,
     "metadata": {},
     "output_type": "execute_result"
    }
   ],
   "source": [
    "df = pd.DataFrame()\n",
    "df['paises'] = dic.keys()\n",
    "df['freq'] = dic.values()\n",
    "df"
   ]
  },
  {
   "cell_type": "code",
   "execution_count": 300,
   "metadata": {
    "collapsed": true
   },
   "outputs": [],
   "source": [
    "df = df[df['freq'] >= 10]"
   ]
  },
  {
   "cell_type": "code",
   "execution_count": 301,
   "metadata": {
    "collapsed": false
   },
   "outputs": [
    {
     "data": {
      "text/html": [
       "<div>\n",
       "<table border=\"1\" class=\"dataframe\">\n",
       "  <thead>\n",
       "    <tr style=\"text-align: right;\">\n",
       "      <th></th>\n",
       "      <th>paises</th>\n",
       "      <th>freq</th>\n",
       "    </tr>\n",
       "  </thead>\n",
       "  <tbody>\n",
       "    <tr>\n",
       "      <th>0</th>\n",
       "      <td>Canada</td>\n",
       "      <td>31</td>\n",
       "    </tr>\n",
       "    <tr>\n",
       "      <th>3</th>\n",
       "      <td>USA</td>\n",
       "      <td>117</td>\n",
       "    </tr>\n",
       "    <tr>\n",
       "      <th>12</th>\n",
       "      <td>Canada &amp; USA</td>\n",
       "      <td>15</td>\n",
       "    </tr>\n",
       "    <tr>\n",
       "      <th>14</th>\n",
       "      <td>USA &amp; Canada</td>\n",
       "      <td>13</td>\n",
       "    </tr>\n",
       "  </tbody>\n",
       "</table>\n",
       "</div>"
      ],
      "text/plain": [
       "          paises  freq\n",
       "0         Canada    31\n",
       "3            USA   117\n",
       "12  Canada & USA    15\n",
       "14  USA & Canada    13"
      ]
     },
     "execution_count": 301,
     "metadata": {},
     "output_type": "execute_result"
    }
   ],
   "source": [
    "df"
   ]
  },
  {
   "cell_type": "code",
   "execution_count": 302,
   "metadata": {
    "collapsed": false
   },
   "outputs": [
    {
     "data": {
      "image/png": "[encoded data removed]",
      "text/plain": [
       "<matplotlib.figure.Figure at 0x7fee8fff7c50>"
      ]
     },
     "metadata": {},
     "output_type": "display_data"
    }
   ],
   "source": [
    "sns.factorplot('paises', 'freq', data=df, kind=\"bar\",palette=\"Blues\",size=6,aspect=2,legend_out=False);"
   ]
  }
 ],
 "metadata": {
  "anaconda-cloud": {},
  "kernelspec": {
   "display_name": "Python [conda root]",
   "language": "python",
   "name": "conda-root-py"
  },
  "language_info": {
   "codemirror_mode": {
    "name": "ipython",
    "version": 2
   },
   "file_extension": ".py",
   "mimetype": "text/x-python",
   "name": "python",
   "nbconvert_exporter": "python",
   "pygments_lexer": "ipython2",
   "version": "2.7.12"
  }
 },
 "nbformat": 4,
 "nbformat_minor": 2
}
