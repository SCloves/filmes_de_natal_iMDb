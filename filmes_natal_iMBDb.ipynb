{
 "cells": [
  {
   "cell_type": "markdown",
   "metadata": {},
   "source": [
    "<img src='filmes_natal.jpg'>"
   ]
  },
  {
   "cell_type": "markdown",
   "metadata": {},
   "source": [
    "# Problema\n",
    "\n",
    "Obter uma lista de filmes sobre o tema Natal no site iMDb e, para cada filme, as seguintes informações:\n",
    "\n",
    "* Título\n",
    "* link iMDb com mais informações sobre o filme\n",
    "* Sinópse\n",
    "* Diretor\n",
    "* Gênero\n",
    "* País\n",
    "* Idioma\n",
    "* Tempo de duração em minutos\n",
    "* Atores principais\n",
    "* Score\n",
    "* Ano\n",
    "\n",
    "Antes de atacarmos esse problema, precisamos entender algumas coisas básicas."
   ]
  },
  {
   "cell_type": "markdown",
   "metadata": {},
   "source": [
    "# Componentes de uma página web"
   ]
  },
  {
   "cell_type": "markdown",
   "metadata": {},
   "source": [
    "Quando visitamos uma página, nosso navegador faz uma solicitação à um servidor de Internet. Essa solicitação é chamada de solicitação GET, pois estamos recebendo arquivos do servidor. O servidor então envia arquivos que dizem ao navegador como renderizar a página para nós. Os arquivos se enquadram em alguns tipos principais:\n",
    "\n",
    "* HTML: Contém o conteúdo principal da página;\n",
    "* CSS: Adiciona estilos para que a página fique mais bonita;\n",
    "* JS: Arquivos JavaScript adicionam interatividade à página;\n",
    "* Imagens: formatos de imagem, tais como JPG e PNG permitem que páginas web exibam imagens.\n",
    "\n",
    "Após nosso navegador receber todos os arquivos, ele renderiza a página e a exibe para nós. Existem muitas coisas que acontecem no background para renderizar bem uma página, mas não precisamos nos preocupar com a maioria delas quando estamos realizando o web scraping. Quando realizamos o web scraping, estamos interessados no conteúdo principal da página, então olharemos para o HTML."
   ]
  },
  {
   "cell_type": "markdown",
   "metadata": {},
   "source": [
    "# Entendendo HTML"
   ]
  },
  {
   "cell_type": "markdown",
   "metadata": {},
   "source": [
    "HyperText Markup Language (HTML) é uma linguagem com que as páginas web são criadas. O HTML não é uma linguagem de programação, como o Python – em vez disso, é uma linguagem de marcação que diz ao navegador como exibir o conteúdo. O HTML permite que você faça coisas similares ao Microsoft Word – criar parágrafos, deixar textos em negrito etc. Por não ser uma linguagem de programação, o HTML nem se aproxima da complexidade do Python."
   ]
  },
  {
   "cell_type": "markdown",
   "metadata": {},
   "source": [
    "O HTML é formado por elementos chamados tags. Veja uma exemplo de código em HTML:\n",
    "\n",
    "```HTML\n",
    "<html>\n",
    "    <head>\n",
    "    </head>\n",
    "    <body>\n",
    "        <p>\n",
    "            Aqui um exemplo de parágrafo com texto.\n",
    "            <a href=\"https://www.dataquest.io\">Learn Data Science Online</a>\n",
    "        </p>\n",
    "        <p>\n",
    "            Aqui um segundo exemplo de parágrafo com texto.\n",
    "            <a href=\"https://www.python.org\">Python</a>\n",
    "        </p>\n",
    "    </body>\n",
    "</html>\n",
    "```"
   ]
  },
  {
   "cell_type": "markdown",
   "metadata": {},
   "source": [
    "No exemplo acima, temos duas tags a. As tags a são links, e dizem ao navegador para renderizar uma outra página. A propriedade href determina para onde o link vai. As tags a e p são extremamente comuns, a seguir temos outras:\n",
    "\n",
    "* div – indica uma divisão, uma área na página;\n",
    "* b – deixa qualquer texto dentro dela em negrito;\n",
    "* i – deixa em itálico;\n",
    "* table – cria uma tabela;\n",
    "* form – cria um formulário;\n",
    "\n",
    "Para uma lista completa de tags, clique [aqui](https://developer.mozilla.org/pt-BR/docs/Web/HTML/HTML5/HTML5_element_list)."
   ]
  },
  {
   "cell_type": "markdown",
   "metadata": {},
   "source": [
    "# A biblioteca requests\n",
    "\n",
    "A primeira coisa que precisamos fazer para realizar o web scrap é baixar a página. Podemos baixar as páginas utilizando a biblioteca requests do Python. A biblioteca requests fará uma solicitação GET ao servidor, que fará o download dos conteúdos HTML da página solicitada para nós. Existem vários tipos de solicitação diferentes que podemos realizar utilizando a biblioteca requests – GET é apenas um deles."
   ]
  },
  {
   "cell_type": "markdown",
   "metadata": {},
   "source": [
    "# A Biblioteca BeautifulSoup\n",
    "\n",
    "Depois de baixamos um documento HTML da página que desejamos usando o requests. Nós podemos utilizar a biblioteca BeautifulSoup para analisar esse documento e extrair o conteúdo das tags que desejamos."
   ]
  },
  {
   "cell_type": "markdown",
   "metadata": {},
   "source": [
    "# Importando as Bibliotecas"
   ]
  },
  {
   "cell_type": "code",
   "execution_count": 3,
   "metadata": {
    "collapsed": true
   },
   "outputs": [],
   "source": [
    "import requests # para se conectar a página web\n",
    "from bs4 import BeautifulSoup # para extrair informações do html\n",
    "import pandas as pd # para manusear os dados e salva-los em csv "
   ]
  },
  {
   "cell_type": "markdown",
   "metadata": {},
   "source": [
    "# Obtendo os títulos e links dos Filmes"
   ]
  },
  {
   "cell_type": "code",
   "execution_count": 4,
   "metadata": {
    "collapsed": true
   },
   "outputs": [],
   "source": [
    "# url que lista filmes sobre o tema natal \n",
    "url_fonte = 'http://www.imdb.com/find?q=Christmas&s=tt&ref_=fn_tt'"
   ]
  },
  {
   "cell_type": "code",
   "execution_count": 13,
   "metadata": {
    "collapsed": false
   },
   "outputs": [],
   "source": [
    "# obtendo conteúdo da página\n",
    "con = requests.get(url_fonte)"
   ]
  },
  {
   "cell_type": "code",
   "execution_count": 14,
   "metadata": {
    "collapsed": true
   },
   "outputs": [],
   "source": [
    "# criando objeto BeautifulSoup \n",
    "soup = BeautifulSoup(con.content, \"html.parser\")"
   ]
  },
  {
   "cell_type": "code",
   "execution_count": 7,
   "metadata": {
    "collapsed": true
   },
   "outputs": [],
   "source": [
    "titulos_filmes = [div.find('a').contents[0] for div in soup.findAll('td', attrs={'class':'result_text'})]"
   ]
  },
  {
   "cell_type": "code",
   "execution_count": 8,
   "metadata": {
    "collapsed": false
   },
   "outputs": [],
   "source": [
    "links_filmes = ['http://www.imdb.com' + div.a['href'] for div in soup.findAll('td', attrs={'class':'result_text'})]"
   ]
  },
  {
   "cell_type": "code",
   "execution_count": 21,
   "metadata": {
    "collapsed": false
   },
   "outputs": [
    {
     "data": {
      "text/plain": [
       "[u'http://www.imdb.com/title/tt1410207/?ref_=fn_tt_tt_1',\n",
       " u'http://www.imdb.com/title/tt0217978/?ref_=fn_tt_tt_2',\n",
       " u'http://www.imdb.com/title/tt0144827/?ref_=fn_tt_tt_3',\n",
       " u'http://www.imdb.com/title/tt0097958/?ref_=fn_tt_tt_4',\n",
       " u'http://www.imdb.com/title/tt0085334/?ref_=fn_tt_tt_5',\n",
       " u'http://www.imdb.com/title/tt0388419/?ref_=fn_tt_tt_6',\n",
       " u'http://www.imdb.com/title/tt1083448/?ref_=fn_tt_tt_7',\n",
       " u'http://www.imdb.com/title/tt6273004/?ref_=fn_tt_tt_8',\n",
       " u'http://www.imdb.com/title/tt6359956/?ref_=fn_tt_tt_9',\n",
       " u'http://www.imdb.com/title/tt7608418/?ref_=fn_tt_tt_10',\n",
       " u'http://www.imdb.com/title/tt7030416/?ref_=fn_tt_tt_11',\n",
       " u'http://www.imdb.com/title/tt5902138/?ref_=fn_tt_tt_12',\n",
       " u'http://www.imdb.com/title/tt0369436/?ref_=fn_tt_tt_13',\n",
       " u'http://www.imdb.com/title/tt6225520/?ref_=fn_tt_tt_14',\n",
       " u'http://www.imdb.com/title/tt0047673/?ref_=fn_tt_tt_15',\n",
       " u'http://www.imdb.com/title/tt7038614/?ref_=fn_tt_tt_16',\n",
       " u'http://www.imdb.com/title/tt1067106/?ref_=fn_tt_tt_17',\n",
       " u'http://www.imdb.com/title/tt6104760/?ref_=fn_tt_tt_18',\n",
       " u'http://www.imdb.com/title/tt6759380/?ref_=fn_tt_tt_19',\n",
       " u'http://www.imdb.com/title/tt1711525/?ref_=fn_tt_tt_20',\n",
       " u'http://www.imdb.com/title/tt0170016/?ref_=fn_tt_tt_21',\n",
       " u'http://www.imdb.com/title/tt7647000/?ref_=fn_tt_tt_22',\n",
       " u'http://www.imdb.com/title/tt4649416/?ref_=fn_tt_tt_23',\n",
       " u'http://www.imdb.com/title/tt5675936/?ref_=fn_tt_tt_24',\n",
       " u'http://www.imdb.com/title/tt3703148/?ref_=fn_tt_tt_25',\n",
       " u'http://www.imdb.com/title/tt6791000/?ref_=fn_tt_tt_26',\n",
       " u'http://www.imdb.com/title/tt5265662/?ref_=fn_tt_tt_27',\n",
       " u'http://www.imdb.com/title/tt7588798/?ref_=fn_tt_tt_28',\n",
       " u'http://www.imdb.com/title/tt1430607/?ref_=fn_tt_tt_29',\n",
       " u'http://www.imdb.com/title/tt4648986/?ref_=fn_tt_tt_30',\n",
       " u'http://www.imdb.com/title/tt5120400/?ref_=fn_tt_tt_31',\n",
       " u'http://www.imdb.com/title/tt1790621/?ref_=fn_tt_tt_32',\n",
       " u'http://www.imdb.com/title/tt7123974/?ref_=fn_tt_tt_33',\n",
       " u'http://www.imdb.com/title/tt2838678/?ref_=fn_tt_tt_34',\n",
       " u'http://www.imdb.com/title/tt6634632/?ref_=fn_tt_tt_35',\n",
       " u'http://www.imdb.com/title/tt5676118/?ref_=fn_tt_tt_36',\n",
       " u'http://www.imdb.com/title/tt5133572/?ref_=fn_tt_tt_37',\n",
       " u'http://www.imdb.com/title/tt7030432/?ref_=fn_tt_tt_38',\n",
       " u'http://www.imdb.com/title/tt4280430/?ref_=fn_tt_tt_39',\n",
       " u'http://www.imdb.com/title/tt3255590/?ref_=fn_tt_tt_40',\n",
       " u'http://www.imdb.com/title/tt2315500/?ref_=fn_tt_tt_41',\n",
       " u'http://www.imdb.com/title/tt6605352/?ref_=fn_tt_tt_42',\n",
       " u'http://www.imdb.com/title/tt0783494/?ref_=fn_tt_tt_43',\n",
       " u'http://www.imdb.com/title/tt1846442/?ref_=fn_tt_tt_44',\n",
       " u'http://www.imdb.com/title/tt2739338/?ref_=fn_tt_tt_45',\n",
       " u'http://www.imdb.com/title/tt3015110/?ref_=fn_tt_tt_46',\n",
       " u'http://www.imdb.com/title/tt5062804/?ref_=fn_tt_tt_47',\n",
       " u'http://www.imdb.com/title/tt5239710/?ref_=fn_tt_tt_48',\n",
       " u'http://www.imdb.com/title/tt0087056/?ref_=fn_tt_tt_49',\n",
       " u'http://www.imdb.com/title/tt5133810/?ref_=fn_tt_tt_50',\n",
       " u'http://www.imdb.com/title/tt4766018/?ref_=fn_tt_tt_51',\n",
       " u'http://www.imdb.com/title/tt0044008/?ref_=fn_tt_tt_52',\n",
       " u'http://www.imdb.com/title/tt2415112/?ref_=fn_tt_tt_53',\n",
       " u'http://www.imdb.com/title/tt2964654/?ref_=fn_tt_tt_54',\n",
       " u'http://www.imdb.com/title/tt5944496/?ref_=fn_tt_tt_55',\n",
       " u'http://www.imdb.com/title/tt6321108/?ref_=fn_tt_tt_56',\n",
       " u'http://www.imdb.com/title/tt7657462/?ref_=fn_tt_tt_57',\n",
       " u'http://www.imdb.com/title/tt0937375/?ref_=fn_tt_tt_58',\n",
       " u'http://www.imdb.com/title/tt4767950/?ref_=fn_tt_tt_59',\n",
       " u'http://www.imdb.com/title/tt3068466/?ref_=fn_tt_tt_60',\n",
       " u'http://www.imdb.com/title/tt2955096/?ref_=fn_tt_tt_61',\n",
       " u'http://www.imdb.com/title/tt0454082/?ref_=fn_tt_tt_62',\n",
       " u'http://www.imdb.com/title/tt6279602/?ref_=fn_tt_tt_63',\n",
       " u'http://www.imdb.com/title/tt5156770/?ref_=fn_tt_tt_64',\n",
       " u'http://www.imdb.com/title/tt0107688/?ref_=fn_tt_tt_65',\n",
       " u'http://www.imdb.com/title/tt7370936/?ref_=fn_tt_tt_66',\n",
       " u'http://www.imdb.com/title/tt4434688/?ref_=fn_tt_tt_67',\n",
       " u'http://www.imdb.com/title/tt6288876/?ref_=fn_tt_tt_68',\n",
       " u'http://www.imdb.com/title/tt4065324/?ref_=fn_tt_tt_69',\n",
       " u'http://www.imdb.com/title/tt6284950/?ref_=fn_tt_tt_70',\n",
       " u'http://www.imdb.com/title/tt5130174/?ref_=fn_tt_tt_71',\n",
       " u'http://www.imdb.com/title/tt5097970/?ref_=fn_tt_tt_72',\n",
       " u'http://www.imdb.com/title/tt5949946/?ref_=fn_tt_tt_73',\n",
       " u'http://www.imdb.com/title/tt4923846/?ref_=fn_tt_tt_74',\n",
       " u'http://www.imdb.com/title/tt0252028/?ref_=fn_tt_tt_75',\n",
       " u'http://www.imdb.com/title/tt2355762/?ref_=fn_tt_tt_76',\n",
       " u'http://www.imdb.com/title/tt1572008/?ref_=fn_tt_tt_77',\n",
       " u'http://www.imdb.com/title/tt5271120/?ref_=fn_tt_tt_78',\n",
       " u'http://www.imdb.com/title/tt6881890/?ref_=fn_tt_tt_79',\n",
       " u'http://www.imdb.com/title/tt4159212/?ref_=fn_tt_tt_80',\n",
       " u'http://www.imdb.com/title/tt6269700/?ref_=fn_tt_tt_81',\n",
       " u'http://www.imdb.com/title/tt2709692/?ref_=fn_tt_tt_82',\n",
       " u'http://www.imdb.com/title/tt5860940/?ref_=fn_tt_tt_83',\n",
       " u'http://www.imdb.com/title/tt2281069/?ref_=fn_tt_tt_84',\n",
       " u'http://www.imdb.com/title/tt0029992/?ref_=fn_tt_tt_85',\n",
       " u'http://www.imdb.com/title/tt2228450/?ref_=fn_tt_tt_86',\n",
       " u'http://www.imdb.com/title/tt0071222/?ref_=fn_tt_tt_87',\n",
       " u'http://www.imdb.com/title/tt0216621/?ref_=fn_tt_tt_88',\n",
       " u'http://www.imdb.com/title/tt4009460/?ref_=fn_tt_tt_89',\n",
       " u'http://www.imdb.com/title/tt5863634/?ref_=fn_tt_tt_90',\n",
       " u'http://www.imdb.com/title/tt6185074/?ref_=fn_tt_tt_91',\n",
       " u'http://www.imdb.com/title/tt0104940/?ref_=fn_tt_tt_92',\n",
       " u'http://www.imdb.com/title/tt5269968/?ref_=fn_tt_tt_93',\n",
       " u'http://www.imdb.com/title/tt3626180/?ref_=fn_tt_tt_94',\n",
       " u'http://www.imdb.com/title/tt1577038/?ref_=fn_tt_tt_95',\n",
       " u'http://www.imdb.com/title/tt0059026/?ref_=fn_tt_tt_96',\n",
       " u'http://www.imdb.com/title/tt2094146/?ref_=fn_tt_tt_97',\n",
       " u'http://www.imdb.com/title/tt6958760/?ref_=fn_tt_tt_98',\n",
       " u'http://www.imdb.com/title/tt2081367/?ref_=fn_tt_tt_99',\n",
       " u'http://www.imdb.com/title/tt4587740/?ref_=fn_tt_tt_100',\n",
       " u'http://www.imdb.com/title/tt3256812/?ref_=fn_tt_tt_101',\n",
       " u'http://www.imdb.com/title/tt4591840/?ref_=fn_tt_tt_102',\n",
       " u'http://www.imdb.com/title/tt2376246/?ref_=fn_tt_tt_103',\n",
       " u'http://www.imdb.com/title/tt7001906/?ref_=fn_tt_tt_104',\n",
       " u'http://www.imdb.com/title/tt6478538/?ref_=fn_tt_tt_105',\n",
       " u'http://www.imdb.com/title/tt3169000/?ref_=fn_tt_tt_106',\n",
       " u'http://www.imdb.com/title/tt0110732/?ref_=fn_tt_tt_107',\n",
       " u'http://www.imdb.com/title/tt7038606/?ref_=fn_tt_tt_108',\n",
       " u'http://www.imdb.com/title/tt2609758/?ref_=fn_tt_tt_109',\n",
       " u'http://www.imdb.com/title/tt0060345/?ref_=fn_tt_tt_110',\n",
       " u'http://www.imdb.com/title/tt3004720/?ref_=fn_tt_tt_111',\n",
       " u'http://www.imdb.com/title/tt2444354/?ref_=fn_tt_tt_112',\n",
       " u'http://www.imdb.com/title/tt3596436/?ref_=fn_tt_tt_113',\n",
       " u'http://www.imdb.com/title/tt0090839/?ref_=fn_tt_tt_114',\n",
       " u'http://www.imdb.com/title/tt0479152/?ref_=fn_tt_tt_115',\n",
       " u'http://www.imdb.com/title/tt6269192/?ref_=fn_tt_tt_116',\n",
       " u'http://www.imdb.com/title/tt4700190/?ref_=fn_tt_tt_117',\n",
       " u'http://www.imdb.com/title/tt7038632/?ref_=fn_tt_tt_118',\n",
       " u'http://www.imdb.com/title/tt6260218/?ref_=fn_tt_tt_119',\n",
       " u'http://www.imdb.com/title/tt5237552/?ref_=fn_tt_tt_120',\n",
       " u'http://www.imdb.com/title/tt6263260/?ref_=fn_tt_tt_121',\n",
       " u'http://www.imdb.com/title/tt1640714/?ref_=fn_tt_tt_122',\n",
       " u'http://www.imdb.com/title/tt0089731/?ref_=fn_tt_tt_123',\n",
       " u'http://www.imdb.com/title/tt1895321/?ref_=fn_tt_tt_124',\n",
       " u'http://www.imdb.com/title/tt3004544/?ref_=fn_tt_tt_125',\n",
       " u'http://www.imdb.com/title/tt6131148/?ref_=fn_tt_tt_126',\n",
       " u'http://www.imdb.com/title/tt0343531/?ref_=fn_tt_tt_127',\n",
       " u'http://www.imdb.com/title/tt6132948/?ref_=fn_tt_tt_128',\n",
       " u'http://www.imdb.com/title/tt4537842/?ref_=fn_tt_tt_129',\n",
       " u'http://www.imdb.com/title/tt0330152/?ref_=fn_tt_tt_130',\n",
       " u'http://www.imdb.com/title/tt1699746/?ref_=fn_tt_tt_131',\n",
       " u'http://www.imdb.com/title/tt2993674/?ref_=fn_tt_tt_132',\n",
       " u'http://www.imdb.com/title/tt3072182/?ref_=fn_tt_tt_133',\n",
       " u'http://www.imdb.com/title/tt6217490/?ref_=fn_tt_tt_134',\n",
       " u'http://www.imdb.com/title/tt4065316/?ref_=fn_tt_tt_135',\n",
       " u'http://www.imdb.com/title/tt3889642/?ref_=fn_tt_tt_136',\n",
       " u'http://www.imdb.com/title/tt1708658/?ref_=fn_tt_tt_137',\n",
       " u'http://www.imdb.com/title/tt0090838/?ref_=fn_tt_tt_138',\n",
       " u'http://www.imdb.com/title/tt3396114/?ref_=fn_tt_tt_139',\n",
       " u'http://www.imdb.com/title/tt1663628/?ref_=fn_tt_tt_140',\n",
       " u'http://www.imdb.com/title/tt2566858/?ref_=fn_tt_tt_141',\n",
       " u'http://www.imdb.com/title/tt2112127/?ref_=fn_tt_tt_142',\n",
       " u'http://www.imdb.com/title/tt1446201/?ref_=fn_tt_tt_143',\n",
       " u'http://www.imdb.com/title/tt5997848/?ref_=fn_tt_tt_144',\n",
       " u'http://www.imdb.com/title/tt0493148/?ref_=fn_tt_tt_145',\n",
       " u'http://www.imdb.com/title/tt4180032/?ref_=fn_tt_tt_146',\n",
       " u'http://www.imdb.com/title/tt3915160/?ref_=fn_tt_tt_147',\n",
       " u'http://www.imdb.com/title/tt6658510/?ref_=fn_tt_tt_148',\n",
       " u'http://www.imdb.com/title/tt0101301/?ref_=fn_tt_tt_149',\n",
       " u'http://www.imdb.com/title/tt0136755/?ref_=fn_tt_tt_150',\n",
       " u'http://www.imdb.com/title/tt3918686/?ref_=fn_tt_tt_151',\n",
       " u'http://www.imdb.com/title/tt0950740/?ref_=fn_tt_tt_152',\n",
       " u'http://www.imdb.com/title/tt6245488/?ref_=fn_tt_tt_153',\n",
       " u'http://www.imdb.com/title/tt3688406/?ref_=fn_tt_tt_154',\n",
       " u'http://www.imdb.com/title/tt0379215/?ref_=fn_tt_tt_155',\n",
       " u'http://www.imdb.com/title/tt2008491/?ref_=fn_tt_tt_156',\n",
       " u'http://www.imdb.com/title/tt0242848/?ref_=fn_tt_tt_157',\n",
       " u'http://www.imdb.com/title/tt5266444/?ref_=fn_tt_tt_158',\n",
       " u'http://www.imdb.com/title/tt7421814/?ref_=fn_tt_tt_159',\n",
       " u'http://www.imdb.com/title/tt4921846/?ref_=fn_tt_tt_160',\n",
       " u'http://www.imdb.com/title/tt7605066/?ref_=fn_tt_tt_161',\n",
       " u'http://www.imdb.com/title/tt6678950/?ref_=fn_tt_tt_162',\n",
       " u'http://www.imdb.com/title/tt3118746/?ref_=fn_tt_tt_163',\n",
       " u'http://www.imdb.com/title/tt0039266/?ref_=fn_tt_tt_164',\n",
       " u'http://www.imdb.com/title/tt2181853/?ref_=fn_tt_tt_165',\n",
       " u'http://www.imdb.com/title/tt5031014/?ref_=fn_tt_tt_166',\n",
       " u'http://www.imdb.com/title/tt0993789/?ref_=fn_tt_tt_167',\n",
       " u'http://www.imdb.com/title/tt2486490/?ref_=fn_tt_tt_168',\n",
       " u'http://www.imdb.com/title/tt3458194/?ref_=fn_tt_tt_169',\n",
       " u'http://www.imdb.com/title/tt0155753/?ref_=fn_tt_tt_170',\n",
       " u'http://www.imdb.com/title/tt0081793/?ref_=fn_tt_tt_171',\n",
       " u'http://www.imdb.com/title/tt6275674/?ref_=fn_tt_tt_172',\n",
       " u'http://www.imdb.com/title/tt5204384/?ref_=fn_tt_tt_173',\n",
       " u'http://www.imdb.com/title/tt1274299/?ref_=fn_tt_tt_174',\n",
       " u'http://www.imdb.com/title/tt7207076/?ref_=fn_tt_tt_175',\n",
       " u'http://www.imdb.com/title/tt0037595/?ref_=fn_tt_tt_176',\n",
       " u'http://www.imdb.com/title/tt5574012/?ref_=fn_tt_tt_177',\n",
       " u'http://www.imdb.com/title/tt7401042/?ref_=fn_tt_tt_178',\n",
       " u'http://www.imdb.com/title/tt4177742/?ref_=fn_tt_tt_179',\n",
       " u'http://www.imdb.com/title/tt1369647/?ref_=fn_tt_tt_180',\n",
       " u'http://www.imdb.com/title/tt0800115/?ref_=fn_tt_tt_181',\n",
       " u'http://www.imdb.com/title/tt3101386/?ref_=fn_tt_tt_182',\n",
       " u'http://www.imdb.com/title/tt5014528/?ref_=fn_tt_tt_183',\n",
       " u'http://www.imdb.com/title/tt0385567/?ref_=fn_tt_tt_184',\n",
       " u'http://www.imdb.com/title/tt3786326/?ref_=fn_tt_tt_185',\n",
       " u'http://www.imdb.com/title/tt2460976/?ref_=fn_tt_tt_186',\n",
       " u'http://www.imdb.com/title/tt2039366/?ref_=fn_tt_tt_187',\n",
       " u'http://www.imdb.com/title/tt0112667/?ref_=fn_tt_tt_188',\n",
       " u'http://www.imdb.com/title/tt6710606/?ref_=fn_tt_tt_189',\n",
       " u'http://www.imdb.com/title/tt0346750/?ref_=fn_tt_tt_190',\n",
       " u'http://www.imdb.com/title/tt5231402/?ref_=fn_tt_tt_191',\n",
       " u'http://www.imdb.com/title/tt0910885/?ref_=fn_tt_tt_192',\n",
       " u'http://www.imdb.com/title/tt0772176/?ref_=fn_tt_tt_193',\n",
       " u'http://www.imdb.com/title/tt1330015/?ref_=fn_tt_tt_194',\n",
       " u'http://www.imdb.com/title/tt5845712/?ref_=fn_tt_tt_195',\n",
       " u'http://www.imdb.com/title/tt1489248/?ref_=fn_tt_tt_196',\n",
       " u'http://www.imdb.com/title/tt5182120/?ref_=fn_tt_tt_197',\n",
       " u'http://www.imdb.com/title/tt5235574/?ref_=fn_tt_tt_198',\n",
       " u'http://www.imdb.com/title/tt7396738/?ref_=fn_tt_tt_199',\n",
       " u'http://www.imdb.com/title/tt4200996/?ref_=fn_tt_tt_200']"
      ]
     },
     "execution_count": 21,
     "metadata": {},
     "output_type": "execute_result"
    }
   ],
   "source": [
    "links_filmes"
   ]
  },
  {
   "cell_type": "markdown",
   "metadata": {},
   "source": [
    "# Obtendo as informações de cada filme"
   ]
  },
  {
   "cell_type": "markdown",
   "metadata": {},
   "source": [
    "### Sinópse"
   ]
  },
  {
   "cell_type": "code",
   "execution_count": 147,
   "metadata": {
    "collapsed": true
   },
   "outputs": [],
   "source": [
    "url_filme = 'http://www.imdb.com/title/tt1410207/?ref_=fn_tt_tt_1'"
   ]
  },
  {
   "cell_type": "code",
   "execution_count": 148,
   "metadata": {
    "collapsed": true
   },
   "outputs": [],
   "source": [
    "# obtendo conteúdo da página\n",
    "con = requests.get(url_filme)\n",
    "\n",
    "# criando objeto BeautifulSoup \n",
    "soup = BeautifulSoup(con.content, \"html.parser\")"
   ]
  },
  {
   "cell_type": "code",
   "execution_count": 16,
   "metadata": {
    "collapsed": true
   },
   "outputs": [],
   "source": [
    "# <div class=\"summary_text\" itemprop=\"description\">\n",
    "sinopse =  soup.find('div', attrs={'class':'summary_text'})"
   ]
  },
  {
   "cell_type": "code",
   "execution_count": 19,
   "metadata": {
    "collapsed": false
   },
   "outputs": [
    {
     "name": "stdout",
     "output_type": "stream",
     "text": [
      "\n",
      "                    The Griswold family's plans for a big family Christmas predictably turn into a big disaster.\n",
      "            \n"
     ]
    }
   ],
   "source": [
    "print sinopse.text        "
   ]
  },
  {
   "cell_type": "code",
   "execution_count": 31,
   "metadata": {
    "collapsed": true
   },
   "outputs": [],
   "source": [
    "# Fazendo função que irá capturar essa informação para nós\n",
    "\n",
    "def get_sinopse(soup):\n",
    "    '''\n",
    "    Função rebe um objeto BeautifulSoup\n",
    "    chamado soup com o html da página do filme\n",
    "    desejado e retorna uma string da sinópse do filme.\n",
    "    Caso não haja uma sinópse, retorna None.\n",
    "    '''\n",
    "    sinopse =  soup.find('div', attrs={'class':'summary_text'})\n",
    "    \n",
    "    if sinopse.text:\n",
    "        return sinopse.text\n",
    "    else:\n",
    "        return None"
   ]
  },
  {
   "cell_type": "code",
   "execution_count": 32,
   "metadata": {
    "collapsed": false
   },
   "outputs": [
    {
     "name": "stdout",
     "output_type": "stream",
     "text": [
      "\n",
      "                    The Griswold family's plans for a big family Christmas predictably turn into a big disaster.\n",
      "            \n",
      "\n",
      "Add a Plot »\n",
      "            \n"
     ]
    }
   ],
   "source": [
    "# testando função\n",
    "\n",
    "url_filme_com_sinopse = 'http://www.imdb.com/title/tt0097958/?ref_=fn_tt_tt_4'\n",
    "url_filme_sem_sinopse = 'http://www.imdb.com/title/tt1410207/?ref_=fn_tt_tt_1'\n",
    "\n",
    "urls = [url_filme_com_sinopse, url_filme_sem_sinopse]\n",
    "\n",
    "for url in urls:\n",
    "    con = requests.get(url)\n",
    "    soup = BeautifulSoup(con.content, \"html.parser\")\n",
    "    print get_sinopse(soup)"
   ]
  },
  {
   "cell_type": "markdown",
   "metadata": {},
   "source": [
    "### Diretor"
   ]
  },
  {
   "cell_type": "code",
   "execution_count": 36,
   "metadata": {
    "collapsed": true
   },
   "outputs": [],
   "source": [
    "# <span class=\"itemprop\" itemprop=\"name\">Jeremiah S. Chechik</span>\n",
    "diretor =  soup.find('span', attrs={'class':'itemprop'}, itemprop='name')"
   ]
  },
  {
   "cell_type": "code",
   "execution_count": 38,
   "metadata": {
    "collapsed": false
   },
   "outputs": [
    {
     "name": "stdout",
     "output_type": "stream",
     "text": [
      "Sebastián Lelio\n"
     ]
    }
   ],
   "source": [
    "print diretor.text"
   ]
  },
  {
   "cell_type": "code",
   "execution_count": 39,
   "metadata": {
    "collapsed": true
   },
   "outputs": [],
   "source": [
    "def get_diretor(soup):\n",
    "    '''\n",
    "    retorna uma lista com \n",
    "    os gêneros do filme\n",
    "    '''\n",
    "    diretor =  soup.find('span', attrs={'class':'itemprop'}, itemprop='name')\n",
    "    if diretor.text:\n",
    "        return diretor.text\n",
    "    else:\n",
    "        return None"
   ]
  },
  {
   "cell_type": "markdown",
   "metadata": {},
   "source": [
    "### Gênero"
   ]
  },
  {
   "cell_type": "code",
   "execution_count": 62,
   "metadata": {
    "collapsed": true
   },
   "outputs": [],
   "source": [
    "# tags com as informações do Gênero dos filmes\n",
    "'''\n",
    "<div class=\"see-more inline canwrap\" itemprop=\"genre\">\n",
    "            <h4 class=\"inline\">Genres:</h4>\n",
    "<a href=\"/genre/Comedy?ref_=tt_stry_gnr\"> Comedy</a>\n",
    "        </div>\n",
    "'''\n",
    "\n",
    "div =  soup.find('div', attrs={'class':'see-more inline canwrap'}, itemprop='genre')"
   ]
  },
  {
   "cell_type": "code",
   "execution_count": 59,
   "metadata": {
    "collapsed": false
   },
   "outputs": [],
   "source": [
    "generos = [a.text for a in div.find_all('a')]"
   ]
  },
  {
   "cell_type": "code",
   "execution_count": 60,
   "metadata": {
    "collapsed": false
   },
   "outputs": [
    {
     "data": {
      "text/plain": [
       "[u' Drama', u' Romance']"
      ]
     },
     "execution_count": 60,
     "metadata": {},
     "output_type": "execute_result"
    }
   ],
   "source": [
    "generos"
   ]
  },
  {
   "cell_type": "code",
   "execution_count": 61,
   "metadata": {
    "collapsed": true
   },
   "outputs": [],
   "source": [
    "def get_generos(soup):\n",
    "    div =  soup.find('div', attrs={'class':'see-more inline canwrap'}, itemprop='genre')\n",
    "    if div.a:\n",
    "        div =  soup.find('div', attrs={'class':'see-more inline canwrap'}, itemprop='genre')\n",
    "        generos = [a.text for a in div.find_all('a')]\n",
    "    else:\n",
    "        return None"
   ]
  },
  {
   "cell_type": "markdown",
   "metadata": {},
   "source": [
    "### País"
   ]
  },
  {
   "cell_type": "code",
   "execution_count": 115,
   "metadata": {
    "collapsed": false
   },
   "outputs": [],
   "source": [
    "'''\n",
    "    <div class=\"txt-block\">\n",
    "    <h4 class=\"inline\">Country:</h4>\n",
    "        <a href=\"/search/title?country_of_origin=cl&amp;ref_=tt_dt_dt\" itemprop=\"url\">Chile</a>\n",
    "              <span class=\"ghost\">|</span>\n",
    "        <a href=\"/search/title?country_of_origin=fr&amp;ref_=tt_dt_dt\" itemprop=\"url\">France</a>\n",
    "'''\n",
    "\n",
    "\n",
    "tags_paises = soup.select(\"a[href*=country_of_origin]\")"
   ]
  },
  {
   "cell_type": "code",
   "execution_count": 121,
   "metadata": {
    "collapsed": false
   },
   "outputs": [
    {
     "data": {
      "text/plain": [
       "[<a href=\"/search/title?country_of_origin=cl&amp;ref_=tt_dt_dt\" itemprop=\"url\">Chile</a>,\n",
       " <a href=\"/search/title?country_of_origin=fr&amp;ref_=tt_dt_dt\" itemprop=\"url\">France</a>]"
      ]
     },
     "execution_count": 121,
     "metadata": {},
     "output_type": "execute_result"
    }
   ],
   "source": [
    "tags_paises"
   ]
  },
  {
   "cell_type": "code",
   "execution_count": 122,
   "metadata": {
    "collapsed": false
   },
   "outputs": [
    {
     "data": {
      "text/plain": [
       "2"
      ]
     },
     "execution_count": 122,
     "metadata": {},
     "output_type": "execute_result"
    }
   ],
   "source": [
    "len(tags_paises)"
   ]
  },
  {
   "cell_type": "code",
   "execution_count": 117,
   "metadata": {
    "collapsed": true
   },
   "outputs": [],
   "source": [
    "paises = [a.text for a in tags_paises]"
   ]
  },
  {
   "cell_type": "code",
   "execution_count": 118,
   "metadata": {
    "collapsed": false
   },
   "outputs": [
    {
     "data": {
      "text/plain": [
       "[u'Chile', u'France']"
      ]
     },
     "execution_count": 118,
     "metadata": {},
     "output_type": "execute_result"
    }
   ],
   "source": [
    "paises"
   ]
  },
  {
   "cell_type": "code",
   "execution_count": 123,
   "metadata": {
    "collapsed": true
   },
   "outputs": [],
   "source": [
    "def get_paises(soup):\n",
    "    tags_paises = soup.select(\"a[href*=country_of_origin]\")\n",
    "    if len(tags_paises):\n",
    "        paises = [a.text for a in tags_paises]\n",
    "        return paises\n",
    "    else:\n",
    "        return None"
   ]
  },
  {
   "cell_type": "markdown",
   "metadata": {},
   "source": [
    "### Idioma"
   ]
  },
  {
   "cell_type": "code",
   "execution_count": 124,
   "metadata": {
    "collapsed": true
   },
   "outputs": [],
   "source": [
    "'''\n",
    "<a href=\"/search/title?title_type=feature&amp;primary_language=es&amp;sort=moviemeter,\n",
    "asc&amp;ref_=tt_dt_dt\" itemprop=\"url\">Spanish</a>\n",
    "'''\n",
    "\n",
    "tags_idioma = soup.select(\"a[href*=primary_language]\")"
   ]
  },
  {
   "cell_type": "code",
   "execution_count": 128,
   "metadata": {
    "collapsed": false
   },
   "outputs": [
    {
     "data": {
      "text/plain": [
       "[<a href=\"/search/title?title_type=feature&amp;primary_language=es&amp;sort=moviemeter,asc&amp;ref_=tt_dt_dt\" itemprop=\"url\">Spanish</a>]"
      ]
     },
     "execution_count": 128,
     "metadata": {},
     "output_type": "execute_result"
    }
   ],
   "source": [
    "tags_idioma"
   ]
  },
  {
   "cell_type": "code",
   "execution_count": 129,
   "metadata": {
    "collapsed": false
   },
   "outputs": [
    {
     "data": {
      "text/plain": [
       "u'Spanish'"
      ]
     },
     "execution_count": 129,
     "metadata": {},
     "output_type": "execute_result"
    }
   ],
   "source": [
    "tags_idioma[0].text"
   ]
  },
  {
   "cell_type": "code",
   "execution_count": 130,
   "metadata": {
    "collapsed": true
   },
   "outputs": [],
   "source": [
    "def get_idioma(soup):\n",
    "    tags_idioma = soup.select(\"a[href*=primary_language]\")\n",
    "    if tags_idioma[0].text:\n",
    "        return tags_idioma[0].text\n",
    "    else:\n",
    "        None"
   ]
  },
  {
   "cell_type": "markdown",
   "metadata": {},
   "source": [
    "### Tempo de duração em minutos"
   ]
  },
  {
   "cell_type": "code",
   "execution_count": 134,
   "metadata": {
    "collapsed": true
   },
   "outputs": [],
   "source": [
    "'''\n",
    "<time itemprop=\"duration\" datetime=\"PT99M\">99 min</time>\n",
    "'''\n",
    "\n",
    "tempo = soup.findAll('time', itemprop=\"duration\")"
   ]
  },
  {
   "cell_type": "code",
   "execution_count": 136,
   "metadata": {
    "collapsed": false
   },
   "outputs": [
    {
     "data": {
      "text/plain": [
       "[<time datetime=\"PT99M\" itemprop=\"duration\">\\n                        1h 39min\\n                    </time>,\n",
       " <time datetime=\"PT99M\" itemprop=\"duration\">99 min</time>,\n",
       " <time datetime=\"PT104M\" itemprop=\"duration\">104 min</time>]"
      ]
     },
     "execution_count": 136,
     "metadata": {},
     "output_type": "execute_result"
    }
   ],
   "source": [
    "tempo"
   ]
  },
  {
   "cell_type": "code",
   "execution_count": 138,
   "metadata": {
    "collapsed": true
   },
   "outputs": [],
   "source": [
    "t = tempo[1].text"
   ]
  },
  {
   "cell_type": "code",
   "execution_count": 140,
   "metadata": {
    "collapsed": false
   },
   "outputs": [
    {
     "data": {
      "text/plain": [
       "2"
      ]
     },
     "execution_count": 140,
     "metadata": {},
     "output_type": "execute_result"
    }
   ],
   "source": [
    "t.find(' min')"
   ]
  },
  {
   "cell_type": "code",
   "execution_count": 142,
   "metadata": {
    "collapsed": false
   },
   "outputs": [
    {
     "data": {
      "text/plain": [
       "u'99'"
      ]
     },
     "execution_count": 142,
     "metadata": {},
     "output_type": "execute_result"
    }
   ],
   "source": [
    "t2 = t[:t.find(' min')]\n",
    "t2"
   ]
  },
  {
   "cell_type": "code",
   "execution_count": 143,
   "metadata": {
    "collapsed": false
   },
   "outputs": [
    {
     "data": {
      "text/plain": [
       "99"
      ]
     },
     "execution_count": 143,
     "metadata": {},
     "output_type": "execute_result"
    }
   ],
   "source": [
    "int(t2)"
   ]
  },
  {
   "cell_type": "code",
   "execution_count": 144,
   "metadata": {
    "collapsed": true
   },
   "outputs": [],
   "source": [
    "def get_duracao(soup):\n",
    "    tempo = soup.findAll('time', itemprop=\"duration\")\n",
    "    t = tempo[1].text\n",
    "    return int(t[:t.find(' min')])"
   ]
  },
  {
   "cell_type": "markdown",
   "metadata": {},
   "source": [
    "### Atores Principais"
   ]
  },
  {
   "cell_type": "code",
   "execution_count": 166,
   "metadata": {
    "collapsed": true
   },
   "outputs": [],
   "source": [
    "'''\n",
    "<span itemprop=\"actors\" itemscope=\"\" itemtype=\"http://schema.org/Person\">\n",
    "<a href=\"/name/nm1443757?ref_=tt_ov_st_sm\" itemprop=\"url\"><span class=\"itemprop\" itemprop=\"name\">Manuela Martelli</span></a>,             </span>\n",
    "'''\n",
    "atores = soup.findAll('span', itemprop=\"actors\")"
   ]
  },
  {
   "cell_type": "code",
   "execution_count": 167,
   "metadata": {
    "collapsed": false
   },
   "outputs": [
    {
     "data": {
      "text/plain": [
       "[<span itemprop=\"actors\" itemscope=\"\" itemtype=\"http://schema.org/Person\">\\n<a href=\"/name/nm1443757?ref_=tt_ov_st_sm\" itemprop=\"url\"><span class=\"itemprop\" itemprop=\"name\">Manuela Martelli</span></a>,             </span>,\n",
       " <span itemprop=\"actors\" itemscope=\"\" itemtype=\"http://schema.org/Person\">\\n<a href=\"/name/nm2926981?ref_=tt_ov_st_sm\" itemprop=\"url\"><span class=\"itemprop\" itemprop=\"name\">Diego Ruiz</span></a>,             </span>,\n",
       " <span itemprop=\"actors\" itemscope=\"\" itemtype=\"http://schema.org/Person\">\\n<a href=\"/name/nm3396723?ref_=tt_ov_st_sm\" itemprop=\"url\"><span class=\"itemprop\" itemprop=\"name\">Alicia Rodr\\xedguez</span></a> </span>]"
      ]
     },
     "execution_count": 167,
     "metadata": {},
     "output_type": "execute_result"
    }
   ],
   "source": [
    "atores"
   ]
  },
  {
   "cell_type": "code",
   "execution_count": 168,
   "metadata": {
    "collapsed": false
   },
   "outputs": [
    {
     "name": "stdout",
     "output_type": "stream",
     "text": [
      "Manuela Martelli\n",
      "Diego Ruiz\n",
      "Alicia Rodríguez\n"
     ]
    }
   ],
   "source": [
    "for div in atores:\n",
    "    print div.a.text"
   ]
  },
  {
   "cell_type": "code",
   "execution_count": 169,
   "metadata": {
    "collapsed": true
   },
   "outputs": [],
   "source": [
    "def gets_atores(soup):\n",
    "    divs_atores = soup.findAll('span', itemprop=\"actors\")\n",
    "    atores = [div.a.text for div in divs_atores]\n",
    "    return atores"
   ]
  },
  {
   "cell_type": "markdown",
   "metadata": {},
   "source": [
    "### Score"
   ]
  },
  {
   "cell_type": "code",
   "execution_count": 170,
   "metadata": {
    "collapsed": true
   },
   "outputs": [],
   "source": [
    "'''\n",
    "<span itemprop=\"ratingValue\">6,2</span>\n",
    "'''\n",
    "\n",
    "score = soup.find('span', itemprop=\"ratingValue\")"
   ]
  },
  {
   "cell_type": "code",
   "execution_count": 173,
   "metadata": {
    "collapsed": false
   },
   "outputs": [
    {
     "data": {
      "text/plain": [
       "6.2"
      ]
     },
     "execution_count": 173,
     "metadata": {},
     "output_type": "execute_result"
    }
   ],
   "source": [
    "float(score.text)"
   ]
  },
  {
   "cell_type": "code",
   "execution_count": 174,
   "metadata": {
    "collapsed": true
   },
   "outputs": [],
   "source": [
    "def get_score(soup):\n",
    "    score = soup.find('span', itemprop=\"ratingValue\")\n",
    "    return float(score.text)"
   ]
  },
  {
   "cell_type": "markdown",
   "metadata": {},
   "source": [
    "### Ano"
   ]
  },
  {
   "cell_type": "code",
   "execution_count": 177,
   "metadata": {
    "collapsed": true
   },
   "outputs": [],
   "source": [
    "# <a href=\"/year/2009/?ref_=tt_ov_inf\">2009</a>\n",
    "\n",
    "ano = soup.select(\"a[href*=/year/]\")"
   ]
  },
  {
   "cell_type": "code",
   "execution_count": 180,
   "metadata": {
    "collapsed": false
   },
   "outputs": [
    {
     "data": {
      "text/plain": [
       "[<a href=\"/year/2009/?ref_=tt_ov_inf\">2009</a>]"
      ]
     },
     "execution_count": 180,
     "metadata": {},
     "output_type": "execute_result"
    }
   ],
   "source": [
    "ano"
   ]
  },
  {
   "cell_type": "code",
   "execution_count": 181,
   "metadata": {
    "collapsed": false
   },
   "outputs": [
    {
     "data": {
      "text/plain": [
       "u'2009'"
      ]
     },
     "execution_count": 181,
     "metadata": {},
     "output_type": "execute_result"
    }
   ],
   "source": [
    "ano[0].text"
   ]
  },
  {
   "cell_type": "code",
   "execution_count": 182,
   "metadata": {
    "collapsed": true
   },
   "outputs": [],
   "source": [
    "def get_ano(soup):\n",
    "    ano = soup.select(\"a[href*=/year/]\")\n",
    "    return int(ano[0].text)"
   ]
  },
  {
   "cell_type": "markdown",
   "metadata": {},
   "source": [
    "# Obtendo os Dados para Todos os Filmes"
   ]
  },
  {
   "cell_type": "code",
   "execution_count": null,
   "metadata": {
    "collapsed": true
   },
   "outputs": [],
   "source": []
  }
 ],
 "metadata": {
  "anaconda-cloud": {},
  "kernelspec": {
   "display_name": "Python [conda root]",
   "language": "python",
   "name": "conda-root-py"
  },
  "language_info": {
   "codemirror_mode": {
    "name": "ipython",
    "version": 2
   },
   "file_extension": ".py",
   "mimetype": "text/x-python",
   "name": "python",
   "nbconvert_exporter": "python",
   "pygments_lexer": "ipython2",
   "version": "2.7.12"
  }
 },
 "nbformat": 4,
 "nbformat_minor": 2
}
